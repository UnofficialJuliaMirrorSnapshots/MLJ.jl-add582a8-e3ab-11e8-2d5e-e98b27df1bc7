{
 "cells": [
  {
   "outputs": [],
   "cell_type": "markdown",
   "source": [
    "# A composite model example with column splits and merges"
   ],
   "metadata": {}
  },
  {
   "outputs": [],
   "cell_type": "markdown",
   "source": [
    "The following composite model description comes from a\n",
    "discussion at [MLJ issue #166](https://github.com/alan-turing-institute/MLJ.jl/issues/166#issuecomment-533934909):"
   ],
   "metadata": {}
  },
  {
   "outputs": [],
   "cell_type": "markdown",
   "source": [
    "> Regress y from x, and classify c from a and b. Then classify w\n",
    "> from y and c."
   ],
   "metadata": {}
  },
  {
   "outputs": [],
   "cell_type": "markdown",
   "source": [
    "Below we show how to use MLJ to define a new supervised model type\n",
    "`MyComposite` with input (a, b, x) to learn a target (c, y, w)\n",
    "according to this prescription. The fields (hyperparmeters) of the\n",
    "new composite model will be the two classifiers and regresssor."
   ],
   "metadata": {}
  },
  {
   "outputs": [],
   "cell_type": "markdown",
   "source": [
    "The new model type is obtained by \"protyping\" the composite model\n",
    "using a learning network, and then exporting the network as a\n",
    "stand-alone model type."
   ],
   "metadata": {}
  },
  {
   "outputs": [],
   "cell_type": "markdown",
   "source": [
    "Select the relevant MLJ version in the [manual\n",
    "entry](https://alan-turing-institute.github.io/MLJ.jl/stable/composing_models/)\n",
    "for more on this general procedure."
   ],
   "metadata": {}
  },
  {
   "outputs": [],
   "cell_type": "markdown",
   "source": [
    "To run without issues, this notebook/script should lie in a copy of\n",
    "[this\n",
    "directory](https://github.com/alan-turing-institute/MLJ.jl/tree/master/examples/composite_example),\n",
    "in some tagged release of the [MLJ\n",
    "package](https://github.com/alan-turing-institute/MLJ.jl)."
   ],
   "metadata": {}
  },
  {
   "outputs": [
    {
     "name": "stdout",
     "output_type": "stream",
     "text": [
      "  Updating registry at `~/.julia/registries/General`\n",
      "  Updating git-repo `https://github.com/JuliaRegistries/General.git`\n",
      "\u001b[?25l\u001b[2K\u001b[?25h"
     ]
    }
   ],
   "cell_type": "code",
   "source": [
    "using Pkg\n",
    "Pkg.activate(@__DIR__)\n",
    "Pkg.instantiate()"
   ],
   "metadata": {},
   "execution_count": 1
  },
  {
   "outputs": [],
   "cell_type": "code",
   "source": [
    "using MLJ\n",
    "using Random\n",
    "Random.seed!(12);"
   ],
   "metadata": {},
   "execution_count": 2
  },
  {
   "outputs": [],
   "cell_type": "markdown",
   "source": [
    "### ASSUMPTIONS"
   ],
   "metadata": {}
  },
  {
   "outputs": [],
   "cell_type": "markdown",
   "source": [
    "We will make the following assumptions regarding the scientific types\n",
    "of the data:"
   ],
   "metadata": {}
  },
  {
   "outputs": [],
   "cell_type": "markdown",
   "source": [
    "- `a`, `b`, `x` have scitype  `AbstractMatrix{Continuous}`"
   ],
   "metadata": {}
  },
  {
   "outputs": [],
   "cell_type": "markdown",
   "source": [
    "- `c` and `w` have scitype `AbstractVector{<:Finite}`"
   ],
   "metadata": {}
  },
  {
   "outputs": [],
   "cell_type": "markdown",
   "source": [
    "- `y` has scitype `AbstractVector{Continuous}`"
   ],
   "metadata": {}
  },
  {
   "outputs": [],
   "cell_type": "markdown",
   "source": [
    "All data share the same number of rows (corresponding to\n",
    "observations)."
   ],
   "metadata": {}
  },
  {
   "outputs": [],
   "cell_type": "markdown",
   "source": [
    "For example,"
   ],
   "metadata": {}
  },
  {
   "outputs": [],
   "cell_type": "code",
   "source": [
    "N = 2\n",
    "a = fill(1.0, (3N, 3)) + rand(3N, 3)\n",
    "b = fill(2.0, (3N, 2)) + rand(3N, 2);\n",
    "x = fill(3.0, (3N, 2)) + rand(3N, 2);\n",
    "c = categorical(rand(\"pqr\", 3N)); levels!(c, ['p', 'q', 'r'])\n",
    "w = categorical(rand(\"PQ\", 3N)); levels!(w, ['P', 'Q'])\n",
    "y = fill(4.0, 3N) + rand(3N);"
   ],
   "metadata": {},
   "execution_count": 3
  },
  {
   "outputs": [],
   "cell_type": "markdown",
   "source": [
    "I'll suppose the input to our supervised composite model is to be\n",
    "presented as a matrix of the form `X = hcat(a, b, x)` where `a`,\n",
    "`b`, `x` are of the form above.  For example,"
   ],
   "metadata": {}
  },
  {
   "outputs": [
    {
     "output_type": "execute_result",
     "data": {
      "text/plain": "AbstractArray{Continuous,2}"
     },
     "metadata": {},
     "execution_count": 4
    }
   ],
   "cell_type": "code",
   "source": [
    "X = hcat(a, b, x);\n",
    "\n",
    "scitype(X)"
   ],
   "metadata": {},
   "execution_count": 4
  },
  {
   "outputs": [],
   "cell_type": "markdown",
   "source": [
    "Since the three target variables `c`, `y`, `z` for the composite\n",
    "have different types, I'll suppose that these are presented as the\n",
    "three columns of a table, with names :c, :y, and :z. For example,"
   ],
   "metadata": {}
  },
  {
   "outputs": [
    {
     "output_type": "execute_result",
     "data": {
      "text/plain": "ScientificTypes.Table{Union{AbstractArray{Continuous,1}, AbstractArray{Multiclass{3},1}, AbstractArray{Multiclass{2},1}}}"
     },
     "metadata": {},
     "execution_count": 5
    }
   ],
   "cell_type": "code",
   "source": [
    "Y = (c=c, y=y, w=w);\n",
    "\n",
    "scitype(Y)"
   ],
   "metadata": {},
   "execution_count": 5
  },
  {
   "outputs": [],
   "cell_type": "markdown",
   "source": [
    "We are assuming the learners are:"
   ],
   "metadata": {}
  },
  {
   "outputs": [],
   "cell_type": "markdown",
   "source": [
    "- A probabilisitic classifier for learning c from a, b\n",
    "- A deterministic regressor for learning y from x\n",
    "- A deterministic classifier for learning w from c and y"
   ],
   "metadata": {}
  },
  {
   "outputs": [],
   "cell_type": "markdown",
   "source": [
    "Here \"classifier\" means `AbstractVector{<:Finite}` target scitype,\n",
    "and \"regressor\" means `AbstractVector{<:Continuous}` target scitype."
   ],
   "metadata": {}
  },
  {
   "outputs": [],
   "cell_type": "markdown",
   "source": [
    "We restrict to component models that have `Table(Continous)` input\n",
    "scitype and so will need to one-hot encode (c, y), before learning\n",
    "w."
   ],
   "metadata": {}
  },
  {
   "outputs": [],
   "cell_type": "markdown",
   "source": [
    "### PROTYPING THE COMPOSITE MODEL"
   ],
   "metadata": {}
  },
  {
   "outputs": [],
   "cell_type": "markdown",
   "source": [
    "Now we define a learning network using component models that will\n",
    "become default values for the fields (hyperparameters) of our final\n",
    "composite model type."
   ],
   "metadata": {}
  },
  {
   "outputs": [],
   "cell_type": "markdown",
   "source": [
    "We first define ordinary functions to do splitting and merging. The\n",
    "functions return a table or vector depending on what the component\n",
    "models will be requiring (in this case, tables for inputs, vectors\n",
    "for targets):"
   ],
   "metadata": {}
  },
  {
   "outputs": [],
   "cell_type": "markdown",
   "source": [
    "Splits:"
   ],
   "metadata": {}
  },
  {
   "outputs": [],
   "cell_type": "code",
   "source": [
    "get_ab(X) = MLJ.table(X[:,1:5], names=[:a1, :a2, :a3, :b1, :b2])\n",
    "get_x(X)  = MLJ.table(X[:,6:7], names=[:x1, :x2])\n",
    "get_c(Y)  = Y.c\n",
    "get_y(Y)  = Y.y\n",
    "get_w(Y)  = Y.w;"
   ],
   "metadata": {},
   "execution_count": 6
  },
  {
   "outputs": [],
   "cell_type": "markdown",
   "source": [
    "Merges:"
   ],
   "metadata": {}
  },
  {
   "outputs": [],
   "cell_type": "code",
   "source": [
    "put_cy(c, y) = (c=c, y=y)\n",
    "put_cyw(c, y, w) = (c=c, y=y, w=w);"
   ],
   "metadata": {},
   "execution_count": 7
  },
  {
   "outputs": [
    {
     "name": "stdout",
     "output_type": "stream",
     "text": [
      "┌────────────────────┬────────────────────┬────────────────────┬────────────────────┬────────────────────┐\n",
      "│ a1                 │ a2                 │ a3                 │ b1                 │ b2                 │\n",
      "│ Float64            │ Float64            │ Float64            │ Float64            │ Float64            │\n",
      "│ Continuous         │ Continuous         │ Continuous         │ Continuous         │ Continuous         │\n",
      "├────────────────────┼────────────────────┼────────────────────┼────────────────────┼────────────────────┤\n",
      "│ 1.258509611589049  │ 1.966360870193827  │ 1.3183374212706567 │ 2.869935590858474  │ 2.879294255581148  │\n",
      "│ 1.9692536801431555 │ 1.5372649650697023 │ 1.369250972215818  │ 2.8462559286657476 │ 2.9075956827073743 │\n",
      "│ 1.4741774214537995 │ 1.1047972018029866 │ 1.9648259583536951 │ 2.9603863080461643 │ 2.1638314679870945 │\n",
      "│ 1.4345063919322494 │ 1.1772158529795567 │ 1.493953333184327  │ 2.298923829587551  │ 2.6935049602253294 │\n",
      "│ 1.965789950130105  │ 1.7398848105545996 │ 1.7620498237481113 │ 2.7917133967512218 │ 2.8765012204931657 │\n",
      "│ 1.8448400543520667 │ 1.1917751260219154 │ 1.7226206182012778 │ 2.9202118620132236 │ 2.7741421358683596 │\n",
      "└────────────────────┴────────────────────┴────────────────────┴────────────────────┴────────────────────┘\n",
      "┌────────────────────┬────────────────────┐\n",
      "│ x1                 │ x2                 │\n",
      "│ Float64            │ Float64            │\n",
      "│ Continuous         │ Continuous         │\n",
      "├────────────────────┼────────────────────┤\n",
      "│ 3.100814138108698  │ 3.184913946607548  │\n",
      "│ 3.146380377522475  │ 3.9634201804282    │\n",
      "│ 3.091770050060381  │ 3.3756442597507554 │\n",
      "│ 3.6645694082560603 │ 3.4022085633806616 │\n",
      "│ 3.2595541880696297 │ 3.2161113480376673 │\n",
      "│ 3.3558438710109906 │ 3.1586004519207354 │\n",
      "└────────────────────┴────────────────────┘\n",
      "┌─────────────────────────────────────────────────┬───────────────────┐\n",
      "│ c                                               │ y                 │\n",
      "│ CategoricalArrays.CategoricalValue{Char,UInt32} │ Float64           │\n",
      "│ Multiclass{3}                                   │ Continuous        │\n",
      "├─────────────────────────────────────────────────┼───────────────────┤\n",
      "│ r                                               │ 4.848369134397307 │\n",
      "│ q                                               │ 4.591504792911725 │\n",
      "│ r                                               │ 4.196294750679592 │\n",
      "│ r                                               │ 4.799210227902959 │\n",
      "│ q                                               │ 4.353927822124325 │\n",
      "│ r                                               │ 4.180200666539543 │\n",
      "└─────────────────────────────────────────────────┴───────────────────┘\n",
      "┌─────────────────────────────────────────────────┬───────────────────┬─────────────────────────────────────────────────┐\n",
      "│ c                                               │ y                 │ w                                               │\n",
      "│ CategoricalArrays.CategoricalValue{Char,UInt32} │ Float64           │ CategoricalArrays.CategoricalValue{Char,UInt32} │\n",
      "│ Multiclass{3}                                   │ Continuous        │ Multiclass{2}                                   │\n",
      "├─────────────────────────────────────────────────┼───────────────────┼─────────────────────────────────────────────────┤\n",
      "│ r                                               │ 4.848369134397307 │ P                                               │\n",
      "│ q                                               │ 4.591504792911725 │ Q                                               │\n",
      "│ r                                               │ 4.196294750679592 │ P                                               │\n",
      "│ r                                               │ 4.799210227902959 │ Q                                               │\n",
      "│ q                                               │ 4.353927822124325 │ P                                               │\n",
      "│ r                                               │ 4.180200666539543 │ P                                               │\n",
      "└─────────────────────────────────────────────────┴───────────────────┴─────────────────────────────────────────────────┘\n"
     ]
    }
   ],
   "cell_type": "code",
   "source": [
    "get_ab(X) |> pretty\n",
    "get_x(X) |> pretty\n",
    "put_cy(c, y) |> pretty\n",
    "put_cyw(c, y, w) |> pretty"
   ],
   "metadata": {},
   "execution_count": 8
  },
  {
   "outputs": [],
   "cell_type": "markdown",
   "source": [
    "We now define source nodes. These nodes could simply wrap `nothing`\n",
    "instead of concrete data, and the network could still be exported.\n",
    "However, to enable testing of the learning network as we build it,\n",
    "we will wrap the data defined above. (The author discovered several\n",
    "errors in earlier attempts this way.)"
   ],
   "metadata": {}
  },
  {
   "outputs": [
    {
     "output_type": "execute_result",
     "data": {
      "text/plain": "\u001b[34mSource{:target} @ 1…96\u001b[39m\n"
     },
     "metadata": {},
     "execution_count": 9
    }
   ],
   "cell_type": "code",
   "source": [
    "X_ = source(X)\n",
    "Y_ = source(Y, kind=:target)"
   ],
   "metadata": {},
   "execution_count": 9
  },
  {
   "outputs": [],
   "cell_type": "markdown",
   "source": [
    "Now for the rest of the network."
   ],
   "metadata": {}
  },
  {
   "outputs": [],
   "cell_type": "markdown",
   "source": [
    "Initial splits:"
   ],
   "metadata": {}
  },
  {
   "outputs": [
    {
     "output_type": "execute_result",
     "data": {
      "text/plain": "\u001b[34mNode @ 4…73\u001b[39m = get_w(\u001b[34m1…96\u001b[39m)"
     },
     "metadata": {},
     "execution_count": 10
    }
   ],
   "cell_type": "code",
   "source": [
    "ab_ = node(get_ab, X_)\n",
    "x_ = node(get_x, X_)\n",
    "c_ = node(get_c, Y_)\n",
    "y_ = node(get_y, Y_)\n",
    "w_ = node(get_w, Y_)"
   ],
   "metadata": {},
   "execution_count": 10
  },
  {
   "outputs": [],
   "cell_type": "markdown",
   "source": [
    "Node to predict c:"
   ],
   "metadata": {}
  },
  {
   "outputs": [
    {
     "output_type": "execute_result",
     "data": {
      "text/plain": "\u001b[34mNode @ 8…65\u001b[39m = predict_mode(\u001b[0m\u001b[1m1…96\u001b[22m, get_ab(\u001b[34m1…58\u001b[39m))"
     },
     "metadata": {},
     "execution_count": 11
    }
   ],
   "cell_type": "code",
   "source": [
    "clf1 = @load DecisionTreeClassifier # a model instance\n",
    "m1 = machine(clf1, ab_, c_)\n",
    "ĉ_ = predict_mode(m1, ab_)"
   ],
   "metadata": {},
   "execution_count": 11
  },
  {
   "outputs": [],
   "cell_type": "markdown",
   "source": [
    "Node to predict y:"
   ],
   "metadata": {}
  },
  {
   "outputs": [
    {
     "output_type": "execute_result",
     "data": {
      "text/plain": "\u001b[34mNode @ 5…02\u001b[39m = predict(\u001b[0m\u001b[1m1…23\u001b[22m, get_x(\u001b[34m1…58\u001b[39m))"
     },
     "metadata": {},
     "execution_count": 12
    }
   ],
   "cell_type": "code",
   "source": [
    "rgs = @load RidgeRegressor pkg=MultivariateStats\n",
    "rgs.lambda = 0.1\n",
    "m = machine(rgs, x_, y_)\n",
    "ŷ_ = predict(m, x_)"
   ],
   "metadata": {},
   "execution_count": 12
  },
  {
   "outputs": [],
   "cell_type": "markdown",
   "source": [
    "Merge c and y:"
   ],
   "metadata": {}
  },
  {
   "outputs": [
    {
     "output_type": "execute_result",
     "data": {
      "text/plain": "\u001b[34mNode @ 7…68\u001b[39m = put_cy(predict_mode(\u001b[0m\u001b[1m1…96\u001b[22m, get_ab(\u001b[34m1…58\u001b[39m)), predict(\u001b[0m\u001b[1m1…23\u001b[22m, get_x(\u001b[34m1…58\u001b[39m)))"
     },
     "metadata": {},
     "execution_count": 13
    }
   ],
   "cell_type": "code",
   "source": [
    "cy_ = node(put_cy, ĉ_, ŷ_)"
   ],
   "metadata": {},
   "execution_count": 13
  },
  {
   "outputs": [],
   "cell_type": "markdown",
   "source": [
    "Node to do the one-hot-encoding:"
   ],
   "metadata": {}
  },
  {
   "outputs": [
    {
     "output_type": "execute_result",
     "data": {
      "text/plain": "\u001b[34mNode @ 1…99\u001b[39m = transform(\u001b[0m\u001b[1m6…33\u001b[22m, put_cy(predict_mode(\u001b[0m\u001b[1m1…96\u001b[22m, get_ab(\u001b[34m1…58\u001b[39m)), predict(\u001b[0m\u001b[1m1…23\u001b[22m, get_x(\u001b[34m1…58\u001b[39m))))"
     },
     "metadata": {},
     "execution_count": 14
    }
   ],
   "cell_type": "code",
   "source": [
    "hot = OneHotEncoder(drop_last=true)\n",
    "cy__ = transform(machine(hot, cy_), cy_)"
   ],
   "metadata": {},
   "execution_count": 14
  },
  {
   "outputs": [],
   "cell_type": "markdown",
   "source": [
    "Node to predict w:"
   ],
   "metadata": {}
  },
  {
   "outputs": [
    {
     "output_type": "execute_result",
     "data": {
      "text/plain": "\u001b[34mNode @ 8…93\u001b[39m = predict(\u001b[0m\u001b[1m1…47\u001b[22m, transform(\u001b[0m\u001b[1m6…33\u001b[22m, put_cy(predict_mode(\u001b[0m\u001b[1m1…96\u001b[22m, get_ab(\u001b[34m1…58\u001b[39m)), predict(\u001b[0m\u001b[1m1…23\u001b[22m, get_x(\u001b[34m1…58\u001b[39m)))))"
     },
     "metadata": {},
     "execution_count": 15
    }
   ],
   "cell_type": "code",
   "source": [
    "clf2 = @load SVC\n",
    "m2 = machine(clf2, cy__, w_)\n",
    "ŵ_ = predict(m2, cy__)"
   ],
   "metadata": {},
   "execution_count": 15
  },
  {
   "outputs": [],
   "cell_type": "markdown",
   "source": [
    "Final merge:"
   ],
   "metadata": {}
  },
  {
   "outputs": [
    {
     "output_type": "execute_result",
     "data": {
      "text/plain": "\u001b[34mNode @ 6…95\u001b[39m = put_cyw(predict_mode(\u001b[0m\u001b[1m1…96\u001b[22m, get_ab(\u001b[34m1…58\u001b[39m)), predict(\u001b[0m\u001b[1m1…23\u001b[22m, get_x(\u001b[34m1…58\u001b[39m)), predict(\u001b[0m\u001b[1m1…47\u001b[22m, transform(\u001b[0m\u001b[1m6…33\u001b[22m, put_cy(predict_mode(\u001b[0m\u001b[1m1…96\u001b[22m, get_ab(\u001b[34m1…58\u001b[39m)), predict(\u001b[0m\u001b[1m1…23\u001b[22m, get_x(\u001b[34m1…58\u001b[39m))))))"
     },
     "metadata": {},
     "execution_count": 16
    }
   ],
   "cell_type": "code",
   "source": [
    "Ŷ_ = node(put_cyw, ĉ_, ŷ_, ŵ_)"
   ],
   "metadata": {},
   "execution_count": 16
  },
  {
   "outputs": [],
   "cell_type": "markdown",
   "source": [
    "As a test of functionality, we can fit the final node, which trains\n",
    "the whole network..."
   ],
   "metadata": {}
  },
  {
   "outputs": [
    {
     "name": "stdout",
     "output_type": "stream",
     "text": [
      "┌ Info: Training \u001b[34mNodalMachine{DecisionTreeClassifier} @ 1…96\u001b[39m.\n",
      "└ @ MLJ /Users/anthony/.julia/packages/MLJ/z2Z6L/src/machines.jl:141\n",
      "┌ Info: Training \u001b[34mNodalMachine{RidgeRegressor} @ 1…23\u001b[39m.\n",
      "└ @ MLJ /Users/anthony/.julia/packages/MLJ/z2Z6L/src/machines.jl:141\n",
      "┌ Info: Training \u001b[34mNodalMachine{OneHotEncoder} @ 6…33\u001b[39m.\n",
      "└ @ MLJ /Users/anthony/.julia/packages/MLJ/z2Z6L/src/machines.jl:141\n",
      "┌ Info: Spawning 2 sub-features to one-hot encode feature :c.\n",
      "└ @ MLJModels.Transformers /Users/anthony/.julia/packages/MLJModels/ijYFi/src/builtins/Transformers.jl:510\n",
      "┌ Info: Training \u001b[34mNodalMachine{SVC} @ 1…47\u001b[39m.\n",
      "└ @ MLJ /Users/anthony/.julia/packages/MLJ/z2Z6L/src/machines.jl:141\n"
     ]
    },
    {
     "output_type": "execute_result",
     "data": {
      "text/plain": "\u001b[34mNode @ 6…95\u001b[39m = put_cyw(predict_mode(\u001b[0m\u001b[1m1…96\u001b[22m, get_ab(\u001b[34m1…58\u001b[39m)), predict(\u001b[0m\u001b[1m1…23\u001b[22m, get_x(\u001b[34m1…58\u001b[39m)), predict(\u001b[0m\u001b[1m1…47\u001b[22m, transform(\u001b[0m\u001b[1m6…33\u001b[22m, put_cy(predict_mode(\u001b[0m\u001b[1m1…96\u001b[22m, get_ab(\u001b[34m1…58\u001b[39m)), predict(\u001b[0m\u001b[1m1…23\u001b[22m, get_x(\u001b[34m1…58\u001b[39m))))))"
     },
     "metadata": {},
     "execution_count": 17
    }
   ],
   "cell_type": "code",
   "source": [
    "fit!(Ŷ_, rows=1:2N)"
   ],
   "metadata": {},
   "execution_count": 17
  },
  {
   "outputs": [],
   "cell_type": "markdown",
   "source": [
    "... and make a prediction:"
   ],
   "metadata": {}
  },
  {
   "outputs": [
    {
     "output_type": "execute_result",
     "data": {
      "text/plain": "(c = CategoricalArrays.CategoricalValue{Char,UInt32}['r', 'r', 'q', 'q'],\n y = [4.56728, 4.7523, 4.63817, 4.67546],\n w = CategoricalArrays.CategoricalValue{Char,UInt32}['P', 'P', 'Q', 'Q'],)"
     },
     "metadata": {},
     "execution_count": 18
    }
   ],
   "cell_type": "code",
   "source": [
    "Ŷ_(rows=(2N-1):3N)"
   ],
   "metadata": {},
   "execution_count": 18
  },
  {
   "outputs": [],
   "cell_type": "markdown",
   "source": [
    "### EXPORT THE LEARNING NETWORK AS STAND-ALONE MODEL"
   ],
   "metadata": {}
  },
  {
   "outputs": [],
   "cell_type": "markdown",
   "source": [
    "The next code simultaneously creates a new model type `MyComposite`\n",
    "and defines `comp` as an instance, using deep copies of the\n",
    "specified learning network component models as default field values:"
   ],
   "metadata": {}
  },
  {
   "outputs": [
    {
     "output_type": "execute_result",
     "data": {
      "text/plain": "Main.##365.MyComposite(classifier1 = DecisionTreeClassifier(pruning_purity = 1.0,\n                                                            max_depth = -1,\n                                                            min_samples_leaf = 1,\n                                                            min_samples_split = 2,\n                                                            min_purity_increase = 0.0,\n                                                            n_subfeatures = 0,\n                                                            display_depth = 5,\n                                                            post_prune = false,\n                                                            merge_purity_threshold = 0.9,\n                                                            pdf_smoothing = 0.05,),\n                       classifier2 = SVC(kernel = RadialBasis::KERNEL = 2,\n                                         gamma = -1.0,\n                                         weights = nothing,\n                                         cost = 1.0,\n                                         degree = 3,\n                                         coef0 = 0.0,\n                                         tolerance = 0.001,\n                                         shrinking = true,\n                                         probability = false,),\n                       regressor = RidgeRegressor(lambda = 0.1,),)\u001b[34m @ 1…93\u001b[39m"
     },
     "metadata": {},
     "execution_count": 19
    }
   ],
   "cell_type": "code",
   "source": [
    "comp = @from_network MyComposite(classifier1=clf1,\n",
    "                                 classifier2=clf2,\n",
    "                                 regressor=rgs) <= Ŷ_"
   ],
   "metadata": {},
   "execution_count": 19
  },
  {
   "outputs": [],
   "cell_type": "markdown",
   "source": [
    "As a model, this object has no data attached to it. We fit it to\n",
    "data, as we do any other model:"
   ],
   "metadata": {}
  },
  {
   "outputs": [
    {
     "name": "stdout",
     "output_type": "stream",
     "text": [
      "┌ Info: Training \u001b[34mMachine{MyComposite} @ 1…10\u001b[39m.\n",
      "└ @ MLJ /Users/anthony/.julia/packages/MLJ/z2Z6L/src/machines.jl:141\n",
      "┌ Info: Training \u001b[34mNodalMachine{DecisionTreeClassifier} @ 7…57\u001b[39m.\n",
      "└ @ MLJ /Users/anthony/.julia/packages/MLJ/z2Z6L/src/machines.jl:141\n",
      "┌ Info: Training \u001b[34mNodalMachine{RidgeRegressor} @ 1…47\u001b[39m.\n",
      "└ @ MLJ /Users/anthony/.julia/packages/MLJ/z2Z6L/src/machines.jl:141\n",
      "┌ Info: Training \u001b[34mNodalMachine{OneHotEncoder} @ 1…76\u001b[39m.\n",
      "└ @ MLJ /Users/anthony/.julia/packages/MLJ/z2Z6L/src/machines.jl:141\n",
      "┌ Info: Spawning 2 sub-features to one-hot encode feature :c.\n",
      "└ @ MLJModels.Transformers /Users/anthony/.julia/packages/MLJModels/ijYFi/src/builtins/Transformers.jl:510\n",
      "┌ Info: Training \u001b[34mNodalMachine{SVC} @ 1…12\u001b[39m.\n",
      "└ @ MLJ /Users/anthony/.julia/packages/MLJ/z2Z6L/src/machines.jl:141\n"
     ]
    },
    {
     "output_type": "execute_result",
     "data": {
      "text/plain": "0.65"
     },
     "metadata": {},
     "execution_count": 20
    }
   ],
   "cell_type": "code",
   "source": [
    "X = rand(100, 7);\n",
    "Y = (c=categorical(rand(\"abc\", 100)),\n",
    "     y=rand(100),\n",
    "     w=categorical(rand(\"AB\", 100)));\n",
    "\n",
    "m = machine(comp, X, Y)\n",
    "fit!(m, rows=1:80)\n",
    "Ŷ = predict(m, rows=81:100)\n",
    "error = sum(Ŷ.w .!= Y.w[81:100])/20"
   ],
   "metadata": {},
   "execution_count": 20
  },
  {
   "outputs": [],
   "cell_type": "markdown",
   "source": [
    "We can select new component models, for example ..."
   ],
   "metadata": {}
  },
  {
   "outputs": [
    {
     "output_type": "execute_result",
     "data": {
      "text/plain": "KNNClassifier(K = 5,\n              algorithm = :kdtree,\n              metric = Distances.Euclidean(0.0),\n              leafsize = 10,\n              reorder = true,\n              weights = :uniform,)\u001b[34m @ 1…79\u001b[39m"
     },
     "metadata": {},
     "execution_count": 21
    }
   ],
   "cell_type": "code",
   "source": [
    "comp.classifier1 = @load KNNClassifier"
   ],
   "metadata": {},
   "execution_count": 21
  },
  {
   "outputs": [],
   "cell_type": "markdown",
   "source": [
    "... and retrain:"
   ],
   "metadata": {}
  },
  {
   "outputs": [
    {
     "name": "stdout",
     "output_type": "stream",
     "text": [
      "┌ Info: Updating \u001b[34mMachine{MyComposite} @ 1…10\u001b[39m.\n",
      "└ @ MLJ /Users/anthony/.julia/packages/MLJ/z2Z6L/src/machines.jl:154\n",
      "┌ Info: Training \u001b[34mNodalMachine{KNNClassifier} @ 1…18\u001b[39m.\n",
      "└ @ MLJ /Users/anthony/.julia/packages/MLJ/z2Z6L/src/machines.jl:141\n",
      "┌ Info: Training \u001b[34mNodalMachine{RidgeRegressor} @ 1…40\u001b[39m.\n",
      "└ @ MLJ /Users/anthony/.julia/packages/MLJ/z2Z6L/src/machines.jl:141\n",
      "┌ Info: Training \u001b[34mNodalMachine{OneHotEncoder} @ 4…57\u001b[39m.\n",
      "└ @ MLJ /Users/anthony/.julia/packages/MLJ/z2Z6L/src/machines.jl:141\n",
      "┌ Info: Spawning 2 sub-features to one-hot encode feature :c.\n",
      "└ @ MLJModels.Transformers /Users/anthony/.julia/packages/MLJModels/ijYFi/src/builtins/Transformers.jl:510\n",
      "┌ Info: Training \u001b[34mNodalMachine{SVC} @ 1…13\u001b[39m.\n",
      "└ @ MLJ /Users/anthony/.julia/packages/MLJ/z2Z6L/src/machines.jl:141\n"
     ]
    },
    {
     "output_type": "execute_result",
     "data": {
      "text/plain": "0.45"
     },
     "metadata": {},
     "execution_count": 22
    }
   ],
   "cell_type": "code",
   "source": [
    "fit!(m, rows=1:80)\n",
    "Ŷ = predict(m, rows=81:100)\n",
    "error = sum(Ŷ.w .!= Y.w[81:100])/20"
   ],
   "metadata": {},
   "execution_count": 22
  },
  {
   "outputs": [],
   "cell_type": "markdown",
   "source": [
    "*This notebook was generated using [Literate.jl](https://github.com/fredrikekre/Literate.jl).*"
   ],
   "metadata": {}
  }
 ],
 "nbformat_minor": 3,
 "metadata": {
  "language_info": {
   "file_extension": ".jl",
   "mimetype": "application/julia",
   "name": "julia",
   "version": "1.1.1"
  },
  "kernelspec": {
   "name": "julia-1.1",
   "display_name": "Julia 1.1.1",
   "language": "julia"
  }
 },
 "nbformat": 4
}
