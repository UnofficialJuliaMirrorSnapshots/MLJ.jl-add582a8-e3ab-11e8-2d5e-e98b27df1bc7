{
 "cells": [
  {
   "cell_type": "markdown",
   "metadata": {},
   "source": [
    "MLJ Demo from the June 2019 MLJ/sktime Sprint"
   ]
  },
  {
   "cell_type": "markdown",
   "metadata": {},
   "source": [
    "### Load environment and seed RNG"
   ]
  },
  {
   "cell_type": "code",
   "execution_count": 1,
   "metadata": {},
   "outputs": [
    {
     "name": "stdout",
     "output_type": "stream",
     "text": [
      "\u001b[32m\u001b[1m  Updating\u001b[22m\u001b[39m registry at `~/.julia/registries/General`\n",
      "\u001b[32m\u001b[1m  Updating\u001b[22m\u001b[39m git-repo `https://github.com/JuliaRegistries/General.git`\n",
      "\u001b[?25l\u001b[2K\u001b[?25h"
     ]
    }
   ],
   "source": [
    "using Pkg\n",
    "Pkg.activate(@__DIR__)\n",
    "Pkg.instantiate()\n",
    "using Random\n",
    "Random.seed!(1234);"
   ]
  },
  {
   "cell_type": "markdown",
   "metadata": {},
   "source": [
    "## 1. Basics"
   ]
  },
  {
   "cell_type": "markdown",
   "metadata": {},
   "source": [
    "### Constructing a task"
   ]
  },
  {
   "cell_type": "code",
   "execution_count": 2,
   "metadata": {},
   "outputs": [
    {
     "name": "stderr",
     "output_type": "stream",
     "text": [
      "┌ Info: Recompiling stale cache file /Users/anthony/.julia/compiled/v1.1/MLJ/rAU56.ji for MLJ [add582a8-e3ab-11e8-2d5e-e98b27df1bc7]\n",
      "└ @ Base loading.jl:1184\n"
     ]
    },
    {
     "data": {
      "text/plain": [
       "Dict{Any,Any} with 9 entries:\n",
       "  \"MultivariateStats\" => Any[\"RidgeRegressor\", \"PCA\"]\n",
       "  \"MLJ\"               => Any[\"MLJ.Constant.DeterministicConstantRegressor\", \"ML…\n",
       "  \"DecisionTree\"      => Any[\"DecisionTreeRegressor\", \"DecisionTreeClassifier\"]\n",
       "  \"ScikitLearn\"       => Any[\"SVMLRegressor\", \"SVMNuClassifier\", \"ElasticNet\", …\n",
       "  \"LIBSVM\"            => Any[\"EpsilonSVR\", \"LinearSVC\", \"NuSVR\", \"NuSVC\", \"SVC\"…\n",
       "  \"Clustering\"        => Any[\"KMeans\", \"KMedoids\"]\n",
       "  \"GLM\"               => Any[\"OLSRegressor\", \"GLMCountRegressor\"]\n",
       "  \"NaiveBayes\"        => Any[\"GaussianNBClassifier\", \"MultinomialNBClassifier\"]\n",
       "  \"XGBoost\"           => Any[\"XGBoostCount\", \"XGBoostRegressor\", \"XGBoostClassi…"
      ]
     },
     "execution_count": 2,
     "metadata": {},
     "output_type": "execute_result"
    }
   ],
   "source": [
    "using MLJ\n",
    "models()"
   ]
  },
  {
   "cell_type": "code",
   "execution_count": 3,
   "metadata": {},
   "outputs": [
    {
     "data": {
      "text/html": [
       "<p>DataFrameRow</p><table class=\"data-frame\"><thead><tr><th></th><th>Crim</th><th>Zn</th><th>Indus</th><th>Chas</th><th>NOx</th><th>Rm</th><th>Age</th><th>Dis</th><th>Rad</th><th>Tax</th></tr><tr><th></th><th>Float64</th><th>Float64</th><th>Float64</th><th>Int64</th><th>Float64</th><th>Float64</th><th>Float64</th><th>Float64</th><th>Int64</th><th>Int64</th></tr></thead><tbody><p>1 rows × 14 columns (omitted printing of 4 columns)</p><tr><th>1</th><td>0.00632</td><td>18.0</td><td>2.31</td><td>0</td><td>0.538</td><td>6.575</td><td>65.2</td><td>4.09</td><td>1</td><td>296</td></tr></tbody></table>"
      ],
      "text/latex": [
       "\\begin{tabular}{r|ccccccccccc}\n",
       "\t& Crim & Zn & Indus & Chas & NOx & Rm & Age & Dis & Rad & Tax & \\\\\n",
       "\t\\hline\n",
       "\t& Float64 & Float64 & Float64 & Int64 & Float64 & Float64 & Float64 & Float64 & Int64 & Int64 & \\\\\n",
       "\t\\hline\n",
       "\t1 & 0.00632 & 18.0 & 2.31 & 0 & 0.538 & 6.575 & 65.2 & 4.09 & 1 & 296 & $\\dots$ \\\\\n",
       "\\end{tabular}\n"
      ],
      "text/plain": [
       "DataFrameRow. Omitted printing of 7 columns\n",
       "│ Row │ Crim    │ Zn      │ Indus   │ Chas  │ NOx     │ Rm      │ Age     │\n",
       "│     │ \u001b[90mFloat64\u001b[39m │ \u001b[90mFloat64\u001b[39m │ \u001b[90mFloat64\u001b[39m │ \u001b[90mInt64\u001b[39m │ \u001b[90mFloat64\u001b[39m │ \u001b[90mFloat64\u001b[39m │ \u001b[90mFloat64\u001b[39m │\n",
       "├─────┼─────────┼─────────┼─────────┼───────┼─────────┼─────────┼─────────┤\n",
       "│ 1   │ 0.00632 │ 18.0    │ 2.31    │ 0     │ 0.538   │ 6.575   │ 65.2    │"
      ]
     },
     "execution_count": 3,
     "metadata": {},
     "output_type": "execute_result"
    }
   ],
   "source": [
    "using RDatasets\n",
    "boston = dataset(\"MASS\", \"Boston\");\n",
    "first(boston)"
   ]
  },
  {
   "cell_type": "code",
   "execution_count": 4,
   "metadata": {},
   "outputs": [
    {
     "data": {
      "text/plain": [
       "(Crim = Continuous,\n",
       " Zn = Continuous,\n",
       " Indus = Continuous,\n",
       " Chas = Count,\n",
       " NOx = Continuous,\n",
       " Rm = Continuous,\n",
       " Age = Continuous,\n",
       " Dis = Continuous,\n",
       " Rad = Count,\n",
       " Tax = Count,\n",
       " PTRatio = Continuous,\n",
       " Black = Continuous,\n",
       " LStat = Continuous,\n",
       " MedV = Continuous,)"
      ]
     },
     "execution_count": 4,
     "metadata": {},
     "output_type": "execute_result"
    }
   ],
   "source": [
    "scitypes(boston)"
   ]
  },
  {
   "cell_type": "code",
   "execution_count": 5,
   "metadata": {},
   "outputs": [
    {
     "name": "stderr",
     "output_type": "stream",
     "text": [
      "┌ Info: \n",
      "│ is_probabilistic = true\n",
      "│ input_scitype_union = Continuous \n",
      "│ target_scitype_union = Continuous\n",
      "└ @ MLJBase /Users/anthony/.julia/packages/MLJBase/dwOtA/src/tasks.jl:104\n"
     ]
    },
    {
     "data": {
      "text/plain": [
       "\u001b[34mSupervisedTask @ 5…24\u001b[39m\n"
      ]
     },
     "execution_count": 5,
     "metadata": {},
     "output_type": "execute_result"
    }
   ],
   "source": [
    "task = supervised(data=boston,\n",
    "                  target=:MedV,\n",
    "                  ignore=:Chas,\n",
    "                  types=Dict(:Rad=>Continuous,:Tax=>Continuous),\n",
    "                  is_probabilistic=true)\n",
    "shuffle!(task)"
   ]
  },
  {
   "cell_type": "code",
   "execution_count": 6,
   "metadata": {},
   "outputs": [
    {
     "data": {
      "text/plain": [
       "Dict{Any,Any} with 2 entries:\n",
       "  \"MLJ\" => Any[\"ConstantRegressor\"]\n",
       "  \"GLM\" => Any[\"OLSRegressor\"]"
      ]
     },
     "execution_count": 6,
     "metadata": {},
     "output_type": "execute_result"
    }
   ],
   "source": [
    "models(task)"
   ]
  },
  {
   "cell_type": "code",
   "execution_count": 7,
   "metadata": {},
   "outputs": [
    {
     "data": {
      "text/plain": [
       "Dict{Any,Any} with 6 entries:\n",
       "  \"MultivariateStats\" => Any[\"RidgeRegressor\"]\n",
       "  \"MLJ\"               => Any[\"MLJ.Constant.DeterministicConstantRegressor\", \"KN…\n",
       "  \"DecisionTree\"      => Any[\"DecisionTreeRegressor\"]\n",
       "  \"ScikitLearn\"       => Any[\"SVMLRegressor\", \"ElasticNet\", \"ElasticNetCV\", \"SV…\n",
       "  \"LIBSVM\"            => Any[\"EpsilonSVR\", \"NuSVR\"]\n",
       "  \"XGBoost\"           => Any[\"XGBoostRegressor\"]"
      ]
     },
     "execution_count": 7,
     "metadata": {},
     "output_type": "execute_result"
    }
   ],
   "source": [
    "task.is_probabilistic=false\n",
    "models(task)"
   ]
  },
  {
   "cell_type": "markdown",
   "metadata": {},
   "source": [
    "### Binding a task to a model"
   ]
  },
  {
   "cell_type": "code",
   "execution_count": 8,
   "metadata": {},
   "outputs": [
    {
     "name": "stdout",
     "output_type": "stream",
     "text": [
      "import MLJModels ✔\n",
      "import MultivariateStats ✔\n",
      "import MLJModels.MultivariateStats_.RidgeRegressor ✔\n"
     ]
    },
    {
     "data": {
      "text/plain": [
       "RidgeRegressor(lambda = 0.0,)\u001b[34m @ 6…20\u001b[39m"
      ]
     },
     "execution_count": 8,
     "metadata": {},
     "output_type": "execute_result"
    }
   ],
   "source": [
    "@load RidgeRegressor\n",
    "model = RidgeRegressor()"
   ]
  },
  {
   "cell_type": "code",
   "execution_count": 9,
   "metadata": {},
   "outputs": [
    {
     "data": {
      "text/plain": [
       "0.1"
      ]
     },
     "execution_count": 9,
     "metadata": {},
     "output_type": "execute_result"
    }
   ],
   "source": [
    "model.lambda = 0.1"
   ]
  },
  {
   "cell_type": "code",
   "execution_count": 10,
   "metadata": {},
   "outputs": [
    {
     "data": {
      "text/plain": [
       "\u001b[34mMachine{RidgeRegressor} @ 1…13\u001b[39m\n"
      ]
     },
     "execution_count": 10,
     "metadata": {},
     "output_type": "execute_result"
    }
   ],
   "source": [
    "mach = machine(model, task)"
   ]
  },
  {
   "cell_type": "markdown",
   "metadata": {},
   "source": [
    "### Evaluation"
   ]
  },
  {
   "cell_type": "code",
   "execution_count": 11,
   "metadata": {},
   "outputs": [
    {
     "name": "stderr",
     "output_type": "stream",
     "text": [
      "┌ Info: Evaluating using a holdout set. \n",
      "│ fraction_train=0.7 \n",
      "│ shuffle=false \n",
      "│ measure=MLJ.rms \n",
      "│ operation=StatsBase.predict \n",
      "│ Resampling from all rows. \n",
      "└ @ MLJ /Users/anthony/.julia/packages/MLJ/JVPRT/src/resampling.jl:92\n"
     ]
    },
    {
     "data": {
      "text/plain": [
       "([1, 2, 3, 4, 5, 6, 7, 8, 9, 10  …  345, 346, 347, 348, 349, 350, 351, 352, 353, 354], [355, 356, 357, 358, 359, 360, 361, 362, 363, 364  …  497, 498, 499, 500, 501, 502, 503, 504, 505, 506])"
      ]
     },
     "execution_count": 11,
     "metadata": {},
     "output_type": "execute_result"
    }
   ],
   "source": [
    "evaluate!(mach, resampling=Holdout(fraction_train=0.7),\n",
    "          measure=rms)\n",
    "# ### Fitting\n",
    "train, test = partition(1:nrows(task), 0.7)"
   ]
  },
  {
   "cell_type": "code",
   "execution_count": 12,
   "metadata": {},
   "outputs": [
    {
     "name": "stderr",
     "output_type": "stream",
     "text": [
      "┌ Info: Not retraining \u001b[34mMachine{RidgeRegressor} @ 1…13\u001b[39m.\n",
      "│  It appears up-to-date. Use force=true to force retraining.\n",
      "└ @ MLJ /Users/anthony/.julia/packages/MLJ/JVPRT/src/machines.jl:141\n"
     ]
    },
    {
     "data": {
      "text/plain": [
       "\u001b[34mMachine{RidgeRegressor} @ 1…13\u001b[39m\n"
      ]
     },
     "execution_count": 12,
     "metadata": {},
     "output_type": "execute_result"
    }
   ],
   "source": [
    "fit!(mach, rows=train)"
   ]
  },
  {
   "cell_type": "code",
   "execution_count": 13,
   "metadata": {},
   "outputs": [],
   "source": [
    "fitted_params(mach)\n",
    "report(mach)"
   ]
  },
  {
   "cell_type": "markdown",
   "metadata": {},
   "source": [
    "### Predicting on data in the task:"
   ]
  },
  {
   "cell_type": "code",
   "execution_count": 14,
   "metadata": {},
   "outputs": [
    {
     "data": {
      "text/plain": [
       "3-element Array{Float64,1}:\n",
       " 27.875406760269595\n",
       " 22.539700844045903\n",
       " 20.687610162632115"
      ]
     },
     "execution_count": 14,
     "metadata": {},
     "output_type": "execute_result"
    }
   ],
   "source": [
    "yhat = predict(mach, rows=test);\n",
    "yhat = predict(mach, task)[test];\n",
    "yhat = predict(mach, task[test]);\n",
    "yhat[1:3]"
   ]
  },
  {
   "cell_type": "code",
   "execution_count": 15,
   "metadata": {},
   "outputs": [],
   "source": [
    "y = task[test].y;"
   ]
  },
  {
   "cell_type": "code",
   "execution_count": 16,
   "metadata": {},
   "outputs": [
    {
     "data": {
      "text/plain": [
       "5.189945057488582"
      ]
     },
     "execution_count": 16,
     "metadata": {},
     "output_type": "execute_result"
    }
   ],
   "source": [
    "rms(yhat, y)"
   ]
  },
  {
   "cell_type": "markdown",
   "metadata": {},
   "source": [
    "### Predicting on \"new\" data"
   ]
  },
  {
   "cell_type": "code",
   "execution_count": 17,
   "metadata": {},
   "outputs": [
    {
     "data": {
      "text/plain": [
       "4-element Array{Float64,1}:\n",
       " 27.875406760269595\n",
       " 22.539700844045903\n",
       " 20.687610162632115\n",
       " 16.055185145971578"
      ]
     },
     "execution_count": 17,
     "metadata": {},
     "output_type": "execute_result"
    }
   ],
   "source": [
    "X = task[test].X;\n",
    "yhat = predict(mach, X);\n",
    "yhat[1:4]"
   ]
  },
  {
   "cell_type": "markdown",
   "metadata": {},
   "source": [
    "## 2. Random Forests - Case Study in Ensembling and Tuning"
   ]
  },
  {
   "cell_type": "markdown",
   "metadata": {},
   "source": [
    "### Quick look at single tree"
   ]
  },
  {
   "cell_type": "code",
   "execution_count": 18,
   "metadata": {},
   "outputs": [
    {
     "name": "stdout",
     "output_type": "stream",
     "text": [
      "import MLJModels ✔\n",
      "import DecisionTree ✔\n",
      "import MLJModels.DecisionTree_.DecisionTreeClassifier ✔\n"
     ]
    },
    {
     "name": "stderr",
     "output_type": "stream",
     "text": [
      "┌ Info: Evaluating using cross-validation. \n",
      "│ nfolds=6. \n",
      "│ shuffle=false \n",
      "│ measure=MLJ.cross_entropy \n",
      "│ operation=StatsBase.predict \n",
      "│ Resampling from all rows. \n",
      "└ @ MLJ /Users/anthony/.julia/packages/MLJ/JVPRT/src/resampling.jl:137\n",
      "\u001b[33mCross-validating: 100%[=========================] Time: 0:00:03\u001b[39m\n"
     ]
    },
    {
     "data": {
      "text/plain": [
       "6-element Array{Float64,1}:\n",
       " 0.1965636053118749 \n",
       " 0.03278982282299082\n",
       " 0.19656360531187478\n",
       " 0.3603373878007589 \n",
       " 0.360337387800759  \n",
       " 0.3603373878007589 "
      ]
     },
     "execution_count": 18,
     "metadata": {},
     "output_type": "execute_result"
    }
   ],
   "source": [
    "task = load_iris() # built-in task\n",
    "shuffle!(task)\n",
    "@load DecisionTreeClassifier\n",
    "tree = DecisionTreeClassifier()\n",
    "mach = machine(tree, task)\n",
    "evaluate!(mach)"
   ]
  },
  {
   "cell_type": "code",
   "execution_count": 19,
   "metadata": {},
   "outputs": [
    {
     "data": {
      "text/plain": [
       "3-element Array{UnivariateFinite{CategoricalString{UInt32},Float64},1}:\n",
       " UnivariateFinite{CategoricalString{UInt32},Float64}(\n",
       "prob_given_level: Dict(\"virginica\"=>0.016129,\"setosa\"=>0.967742,\"versicolor\"=>0.016129)\n",
       ")\n",
       "\n",
       " UnivariateFinite{CategoricalString{UInt32},Float64}(\n",
       "prob_given_level: Dict(\"virginica\"=>0.967742,\"setosa\"=>0.016129,\"versicolor\"=>0.016129)\n",
       ")\n",
       "\n",
       " UnivariateFinite{CategoricalString{UInt32},Float64}(\n",
       "prob_given_level: Dict(\"virginica\"=>0.016129,\"setosa\"=>0.016129,\"versicolor\"=>0.967742)\n",
       ")\n"
      ]
     },
     "execution_count": 19,
     "metadata": {},
     "output_type": "execute_result"
    }
   ],
   "source": [
    "yhat = predict(mach, rows=1:3)"
   ]
  },
  {
   "cell_type": "code",
   "execution_count": 20,
   "metadata": {},
   "outputs": [
    {
     "data": {
      "text/plain": [
       "3-element Array{Float64,1}:\n",
       " 0.01612903225806452 \n",
       " 0.9677419354838711  \n",
       " 0.016129032258064516"
      ]
     },
     "execution_count": 20,
     "metadata": {},
     "output_type": "execute_result"
    }
   ],
   "source": [
    "[pdf(d, \"virginica\") for d in yhat]"
   ]
  },
  {
   "cell_type": "code",
   "execution_count": 21,
   "metadata": {},
   "outputs": [
    {
     "data": {
      "text/plain": [
       "3-element Array{CategoricalString{UInt32},1}:\n",
       " \"setosa\"    \n",
       " \"virginica\" \n",
       " \"versicolor\""
      ]
     },
     "execution_count": 21,
     "metadata": {},
     "output_type": "execute_result"
    }
   ],
   "source": [
    "predict_mode(mach, rows=1:3)"
   ]
  },
  {
   "cell_type": "markdown",
   "metadata": {},
   "source": [
    "### A random forest"
   ]
  },
  {
   "cell_type": "code",
   "execution_count": 22,
   "metadata": {},
   "outputs": [
    {
     "data": {
      "text/plain": [
       "MLJ.ProbabilisticEnsembleModel(atom = \u001b[34mDecisionTreeClassifier @ 1…21\u001b[39m,\n",
       "                               weights = Float64[],\n",
       "                               bagging_fraction = 0.8,\n",
       "                               rng = MersenneTwister(UInt32[0x000004d2]),\n",
       "                               n = 100,\n",
       "                               parallel = true,\n",
       "                               out_of_bag_measure = Any[],)\u001b[34m @ 8…16\u001b[39m"
      ]
     },
     "execution_count": 22,
     "metadata": {},
     "output_type": "execute_result"
    }
   ],
   "source": [
    "forest = EnsembleModel(atom=tree)"
   ]
  },
  {
   "cell_type": "code",
   "execution_count": 23,
   "metadata": {},
   "outputs": [
    {
     "data": {
      "text/plain": [
       "5-element Array{Int64,1}:\n",
       "   10\n",
       "   32\n",
       "  100\n",
       "  316\n",
       " 1000"
      ]
     },
     "execution_count": 23,
     "metadata": {},
     "output_type": "execute_result"
    }
   ],
   "source": [
    "mach = machine(forest, task)\n",
    "\n",
    "r = range(forest, :n, lower=10, upper=1000, scale=:log10)\n",
    "\n",
    "iterator(r,5)"
   ]
  },
  {
   "cell_type": "code",
   "execution_count": 24,
   "metadata": {},
   "outputs": [
    {
     "name": "stderr",
     "output_type": "stream",
     "text": [
      "WARNING: using Plots.curves in module Main conflicts with an existing identifier.\n"
     ]
    }
   ],
   "source": [
    "curves = learning_curve!(mach,\n",
    "                         resampling=Holdout(fraction_train=0.8),\n",
    "                         nested_range=(n=r,),\n",
    "                         measure=cross_entropy, n=4,\n",
    "                         verbosity=0)\n",
    "using Plots\n",
    "plot(curves.parameter_values, curves.measurements,\n",
    "     xlab=\"number of trees\", ylab=\"rms \")\n",
    "forest.n = 100; # 750 better"
   ]
  },
  {
   "cell_type": "code",
   "execution_count": 25,
   "metadata": {},
   "outputs": [
    {
     "data": {
      "text/plain": [
       "(atom = (pruning_purity = 1.0,\n",
       "         max_depth = -1,\n",
       "         min_samples_leaf = 1,\n",
       "         min_samples_split = 2,\n",
       "         min_purity_increase = 0.0,\n",
       "         n_subfeatures = 0,\n",
       "         display_depth = 5,\n",
       "         post_prune = false,\n",
       "         merge_purity_threshold = 0.9,\n",
       "         pdf_smoothing = 0.05,),\n",
       " weights = Float64[],\n",
       " bagging_fraction = 0.8,\n",
       " rng = MersenneTwister(UInt32[0x000004d2]),\n",
       " n = 100,\n",
       " parallel = true,\n",
       " out_of_bag_measure = Any[],)"
      ]
     },
     "execution_count": 25,
     "metadata": {},
     "output_type": "execute_result"
    }
   ],
   "source": [
    "params(forest) # all hyperparameters, as a named tuple"
   ]
  },
  {
   "cell_type": "code",
   "execution_count": 26,
   "metadata": {},
   "outputs": [
    {
     "data": {
      "text/plain": [
       "(model = (atom = (pruning_purity = 1.0,\n",
       "                  max_depth = -1,\n",
       "                  min_samples_leaf = 1,\n",
       "                  min_samples_split = 2,\n",
       "                  min_purity_increase = 0.0,\n",
       "                  n_subfeatures = 0,\n",
       "                  display_depth = 5,\n",
       "                  post_prune = false,\n",
       "                  merge_purity_threshold = 0.9,\n",
       "                  pdf_smoothing = 0.05,),\n",
       "          weights = Float64[],\n",
       "          bagging_fraction = 0.8,\n",
       "          rng = MersenneTwister(UInt32[0x000004d2]),\n",
       "          n = 100,\n",
       "          parallel = true,\n",
       "          out_of_bag_measure = Any[],),\n",
       " tuning = (resolution = 12,\n",
       "           parallel = true,),\n",
       " resampling = (nfolds = 6,\n",
       "               parallel = true,\n",
       "               shuffle = false,),\n",
       " measure = MLJ.cross_entropy,\n",
       " operation = StatsBase.predict,\n",
       " nested_ranges = (atom = (n_subfeatures = \u001b[34mNumericRange{n_subfeatures} @ 4…29\u001b[39m,),\n",
       "                  bagging_fraction = \u001b[34mNumericRange{bagging_fraction} @ 1…12\u001b[39m,),\n",
       " minimize = true,\n",
       " full_report = true,\n",
       " train_best = true,)"
      ]
     },
     "execution_count": 26,
     "metadata": {},
     "output_type": "execute_result"
    }
   ],
   "source": [
    "r1 = range(tree, :n_subfeatures, lower=1, upper=4);\n",
    "r2 = range(forest, :bagging_fraction, lower=0.4, upper=1.0);\n",
    "nested_ranges = (atom=(n_subfeatures=r1,),\n",
    "                 bagging_fraction=r2)\n",
    "tuned_forest = TunedModel(model=forest,\n",
    "                          tuning=Grid(resolution=12),\n",
    "                          resampling=CV(nfolds=6),\n",
    "                          nested_ranges=nested_ranges,\n",
    "                          measure=cross_entropy)\n",
    "params(tuned_forest)"
   ]
  },
  {
   "cell_type": "code",
   "execution_count": 27,
   "metadata": {},
   "outputs": [
    {
     "data": {
      "text/plain": [
       "\u001b[34mMachine{ProbabilisticTunedModel} @ 9…00\u001b[39m\n"
      ]
     },
     "execution_count": 27,
     "metadata": {},
     "output_type": "execute_result"
    }
   ],
   "source": [
    "mach = machine(tuned_forest, task)"
   ]
  },
  {
   "cell_type": "code",
   "execution_count": 28,
   "metadata": {},
   "outputs": [
    {
     "name": "stderr",
     "output_type": "stream",
     "text": [
      "┌ Info: Evaluating using a holdout set. \n",
      "│ fraction_train=0.7 \n",
      "│ shuffle=false \n",
      "│ measure=Function[cross_entropy, misclassification_rate] \n",
      "│ operation=StatsBase.predict \n",
      "│ Resampling from all rows. \n",
      "└ @ MLJ /Users/anthony/.julia/packages/MLJ/JVPRT/src/resampling.jl:92\n",
      "┌ Info: Training \u001b[34mMachine{ProbabilisticTunedModel} @ 9…00\u001b[39m.\n",
      "└ @ MLJ /Users/anthony/.julia/packages/MLJ/JVPRT/src/machines.jl:135\n",
      "\u001b[33mIterating over a 48-point grid: 100%[=========================] Time: 0:00:08\u001b[39m\n",
      "┌ Info: Training best model on all supplied data.\n",
      "└ @ MLJ /Users/anthony/.julia/packages/MLJ/JVPRT/src/tuning.jl:199\n"
     ]
    },
    {
     "data": {
      "text/plain": [
       "(best_model = \u001b[34mProbabilisticEnsembleModel{DecisionTreeClassifier} @ 1…46\u001b[39m,)"
      ]
     },
     "execution_count": 28,
     "metadata": {},
     "output_type": "execute_result"
    }
   ],
   "source": [
    "evaluate!(mach, resampling=Holdout(fraction_train=0.7),\n",
    "          measure=[cross_entropy, misclassification_rate], verbosity=2)\n",
    "fitted_params(mach)"
   ]
  },
  {
   "cell_type": "code",
   "execution_count": 29,
   "metadata": {},
   "outputs": [
    {
     "name": "stdout",
     "output_type": "stream",
     "text": [
      "best.bagging_fraction = 0.45454545454545453\n",
      "(best.atom).n_subfeatures = 4\n"
     ]
    }
   ],
   "source": [
    "best = fitted_params(mach).best_model\n",
    "@show best.bagging_fraction best.atom.n_subfeatures;"
   ]
  },
  {
   "cell_type": "code",
   "execution_count": 30,
   "metadata": {},
   "outputs": [
    {
     "data": {
      "image/svg+xml": [
       "<?xml version=\"1.0\" encoding=\"utf-8\"?>\n",
       "<svg xmlns=\"http://www.w3.org/2000/svg\" xmlns:xlink=\"http://www.w3.org/1999/xlink\" width=\"600\" height=\"400\" viewBox=\"0 0 2400 1600\">\n",
       "<defs>\n",
       "  <clipPath id=\"clip6000\">\n",
       "    <rect x=\"0\" y=\"0\" width=\"2400\" height=\"1600\"/>\n",
       "  </clipPath>\n",
       "</defs>\n",
       "<polygon clip-path=\"url(#clip6000)\" points=\"\n",
       "0,1600 2400,1600 2400,0 0,0 \n",
       "  \" fill=\"#ffffff\" fill-rule=\"evenodd\" fill-opacity=\"1\"/>\n",
       "<defs>\n",
       "  <clipPath id=\"clip6001\">\n",
       "    <rect x=\"480\" y=\"0\" width=\"1681\" height=\"1600\"/>\n",
       "  </clipPath>\n",
       "</defs>\n",
       "<polygon clip-path=\"url(#clip6000)\" points=\"\n",
       "215.754,1425.62 2112.76,1425.62 2112.76,47.2441 215.754,47.2441 \n",
       "  \" fill=\"#ffffff\" fill-rule=\"evenodd\" fill-opacity=\"1\"/>\n",
       "<defs>\n",
       "  <clipPath id=\"clip6002\">\n",
       "    <rect x=\"215\" y=\"47\" width=\"1898\" height=\"1379\"/>\n",
       "  </clipPath>\n",
       "</defs>\n",
       "<polyline clip-path=\"url(#clip6002)\" style=\"stroke:#000000; stroke-width:2; stroke-opacity:0.1; fill:none\" points=\"\n",
       "  269.443,1425.62 269.443,47.2441 \n",
       "  \"/>\n",
       "<polyline clip-path=\"url(#clip6002)\" style=\"stroke:#000000; stroke-width:2; stroke-opacity:0.1; fill:none\" points=\"\n",
       "  865.984,1425.62 865.984,47.2441 \n",
       "  \"/>\n",
       "<polyline clip-path=\"url(#clip6002)\" style=\"stroke:#000000; stroke-width:2; stroke-opacity:0.1; fill:none\" points=\"\n",
       "  1462.53,1425.62 1462.53,47.2441 \n",
       "  \"/>\n",
       "<polyline clip-path=\"url(#clip6002)\" style=\"stroke:#000000; stroke-width:2; stroke-opacity:0.1; fill:none\" points=\"\n",
       "  2059.07,1425.62 2059.07,47.2441 \n",
       "  \"/>\n",
       "<polyline clip-path=\"url(#clip6002)\" style=\"stroke:#000000; stroke-width:2; stroke-opacity:0.1; fill:none\" points=\"\n",
       "  215.754,1386.61 2112.76,1386.61 \n",
       "  \"/>\n",
       "<polyline clip-path=\"url(#clip6002)\" style=\"stroke:#000000; stroke-width:2; stroke-opacity:0.1; fill:none\" points=\"\n",
       "  215.754,1169.88 2112.76,1169.88 \n",
       "  \"/>\n",
       "<polyline clip-path=\"url(#clip6002)\" style=\"stroke:#000000; stroke-width:2; stroke-opacity:0.1; fill:none\" points=\"\n",
       "  215.754,953.157 2112.76,953.157 \n",
       "  \"/>\n",
       "<polyline clip-path=\"url(#clip6002)\" style=\"stroke:#000000; stroke-width:2; stroke-opacity:0.1; fill:none\" points=\"\n",
       "  215.754,736.431 2112.76,736.431 \n",
       "  \"/>\n",
       "<polyline clip-path=\"url(#clip6002)\" style=\"stroke:#000000; stroke-width:2; stroke-opacity:0.1; fill:none\" points=\"\n",
       "  215.754,519.706 2112.76,519.706 \n",
       "  \"/>\n",
       "<polyline clip-path=\"url(#clip6002)\" style=\"stroke:#000000; stroke-width:2; stroke-opacity:0.1; fill:none\" points=\"\n",
       "  215.754,302.98 2112.76,302.98 \n",
       "  \"/>\n",
       "<polyline clip-path=\"url(#clip6002)\" style=\"stroke:#000000; stroke-width:2; stroke-opacity:0.1; fill:none\" points=\"\n",
       "  215.754,86.2547 2112.76,86.2547 \n",
       "  \"/>\n",
       "<polyline clip-path=\"url(#clip6000)\" style=\"stroke:#000000; stroke-width:4; stroke-opacity:1; fill:none\" points=\"\n",
       "  215.754,1425.62 2112.76,1425.62 \n",
       "  \"/>\n",
       "<polyline clip-path=\"url(#clip6000)\" style=\"stroke:#000000; stroke-width:4; stroke-opacity:1; fill:none\" points=\"\n",
       "  215.754,1425.62 215.754,47.2441 \n",
       "  \"/>\n",
       "<polyline clip-path=\"url(#clip6000)\" style=\"stroke:#000000; stroke-width:4; stroke-opacity:1; fill:none\" points=\"\n",
       "  269.443,1425.62 269.443,1404.94 \n",
       "  \"/>\n",
       "<polyline clip-path=\"url(#clip6000)\" style=\"stroke:#000000; stroke-width:4; stroke-opacity:1; fill:none\" points=\"\n",
       "  865.984,1425.62 865.984,1404.94 \n",
       "  \"/>\n",
       "<polyline clip-path=\"url(#clip6000)\" style=\"stroke:#000000; stroke-width:4; stroke-opacity:1; fill:none\" points=\"\n",
       "  1462.53,1425.62 1462.53,1404.94 \n",
       "  \"/>\n",
       "<polyline clip-path=\"url(#clip6000)\" style=\"stroke:#000000; stroke-width:4; stroke-opacity:1; fill:none\" points=\"\n",
       "  2059.07,1425.62 2059.07,1404.94 \n",
       "  \"/>\n",
       "<polyline clip-path=\"url(#clip6000)\" style=\"stroke:#000000; stroke-width:4; stroke-opacity:1; fill:none\" points=\"\n",
       "  215.754,1386.61 244.209,1386.61 \n",
       "  \"/>\n",
       "<polyline clip-path=\"url(#clip6000)\" style=\"stroke:#000000; stroke-width:4; stroke-opacity:1; fill:none\" points=\"\n",
       "  215.754,1169.88 244.209,1169.88 \n",
       "  \"/>\n",
       "<polyline clip-path=\"url(#clip6000)\" style=\"stroke:#000000; stroke-width:4; stroke-opacity:1; fill:none\" points=\"\n",
       "  215.754,953.157 244.209,953.157 \n",
       "  \"/>\n",
       "<polyline clip-path=\"url(#clip6000)\" style=\"stroke:#000000; stroke-width:4; stroke-opacity:1; fill:none\" points=\"\n",
       "  215.754,736.431 244.209,736.431 \n",
       "  \"/>\n",
       "<polyline clip-path=\"url(#clip6000)\" style=\"stroke:#000000; stroke-width:4; stroke-opacity:1; fill:none\" points=\"\n",
       "  215.754,519.706 244.209,519.706 \n",
       "  \"/>\n",
       "<polyline clip-path=\"url(#clip6000)\" style=\"stroke:#000000; stroke-width:4; stroke-opacity:1; fill:none\" points=\"\n",
       "  215.754,302.98 244.209,302.98 \n",
       "  \"/>\n",
       "<polyline clip-path=\"url(#clip6000)\" style=\"stroke:#000000; stroke-width:4; stroke-opacity:1; fill:none\" points=\"\n",
       "  215.754,86.2547 244.209,86.2547 \n",
       "  \"/>\n",
       "<g clip-path=\"url(#clip6000)\">\n",
       "<text style=\"fill:#000000; fill-opacity:1; font-family:Arial,Helvetica Neue,Helvetica,sans-serif; font-size:48px; text-anchor:middle;\" transform=\"rotate(0, 269.443, 1479.62)\" x=\"269.443\" y=\"1479.62\">1</text>\n",
       "</g>\n",
       "<g clip-path=\"url(#clip6000)\">\n",
       "<text style=\"fill:#000000; fill-opacity:1; font-family:Arial,Helvetica Neue,Helvetica,sans-serif; font-size:48px; text-anchor:middle;\" transform=\"rotate(0, 865.984, 1479.62)\" x=\"865.984\" y=\"1479.62\">2</text>\n",
       "</g>\n",
       "<g clip-path=\"url(#clip6000)\">\n",
       "<text style=\"fill:#000000; fill-opacity:1; font-family:Arial,Helvetica Neue,Helvetica,sans-serif; font-size:48px; text-anchor:middle;\" transform=\"rotate(0, 1462.53, 1479.62)\" x=\"1462.53\" y=\"1479.62\">3</text>\n",
       "</g>\n",
       "<g clip-path=\"url(#clip6000)\">\n",
       "<text style=\"fill:#000000; fill-opacity:1; font-family:Arial,Helvetica Neue,Helvetica,sans-serif; font-size:48px; text-anchor:middle;\" transform=\"rotate(0, 2059.07, 1479.62)\" x=\"2059.07\" y=\"1479.62\">4</text>\n",
       "</g>\n",
       "<g clip-path=\"url(#clip6000)\">\n",
       "<text style=\"fill:#000000; fill-opacity:1; font-family:Arial,Helvetica Neue,Helvetica,sans-serif; font-size:48px; text-anchor:end;\" transform=\"rotate(0, 191.754, 1404.11)\" x=\"191.754\" y=\"1404.11\">0.4</text>\n",
       "</g>\n",
       "<g clip-path=\"url(#clip6000)\">\n",
       "<text style=\"fill:#000000; fill-opacity:1; font-family:Arial,Helvetica Neue,Helvetica,sans-serif; font-size:48px; text-anchor:end;\" transform=\"rotate(0, 191.754, 1187.38)\" x=\"191.754\" y=\"1187.38\">0.5</text>\n",
       "</g>\n",
       "<g clip-path=\"url(#clip6000)\">\n",
       "<text style=\"fill:#000000; fill-opacity:1; font-family:Arial,Helvetica Neue,Helvetica,sans-serif; font-size:48px; text-anchor:end;\" transform=\"rotate(0, 191.754, 970.657)\" x=\"191.754\" y=\"970.657\">0.6</text>\n",
       "</g>\n",
       "<g clip-path=\"url(#clip6000)\">\n",
       "<text style=\"fill:#000000; fill-opacity:1; font-family:Arial,Helvetica Neue,Helvetica,sans-serif; font-size:48px; text-anchor:end;\" transform=\"rotate(0, 191.754, 753.931)\" x=\"191.754\" y=\"753.931\">0.7</text>\n",
       "</g>\n",
       "<g clip-path=\"url(#clip6000)\">\n",
       "<text style=\"fill:#000000; fill-opacity:1; font-family:Arial,Helvetica Neue,Helvetica,sans-serif; font-size:48px; text-anchor:end;\" transform=\"rotate(0, 191.754, 537.206)\" x=\"191.754\" y=\"537.206\">0.8</text>\n",
       "</g>\n",
       "<g clip-path=\"url(#clip6000)\">\n",
       "<text style=\"fill:#000000; fill-opacity:1; font-family:Arial,Helvetica Neue,Helvetica,sans-serif; font-size:48px; text-anchor:end;\" transform=\"rotate(0, 191.754, 320.48)\" x=\"191.754\" y=\"320.48\">0.9</text>\n",
       "</g>\n",
       "<g clip-path=\"url(#clip6000)\">\n",
       "<text style=\"fill:#000000; fill-opacity:1; font-family:Arial,Helvetica Neue,Helvetica,sans-serif; font-size:48px; text-anchor:end;\" transform=\"rotate(0, 191.754, 103.755)\" x=\"191.754\" y=\"103.755\">1.0</text>\n",
       "</g>\n",
       "<g clip-path=\"url(#clip6000)\">\n",
       "<text style=\"fill:#000000; fill-opacity:1; font-family:Arial,Helvetica Neue,Helvetica,sans-serif; font-size:66px; text-anchor:middle;\" transform=\"rotate(0, 1164.25, 1559.48)\" x=\"1164.25\" y=\"1559.48\">atom.n_subfeatures</text>\n",
       "</g>\n",
       "<g clip-path=\"url(#clip6000)\">\n",
       "<text style=\"fill:#000000; fill-opacity:1; font-family:Arial,Helvetica Neue,Helvetica,sans-serif; font-size:66px; text-anchor:middle;\" transform=\"rotate(-90, 89.2861, 736.431)\" x=\"89.2861\" y=\"736.431\">bagging_fraction</text>\n",
       "</g>\n",
       "<circle clip-path=\"url(#clip6002)\" style=\"fill:#000000; stroke:none; fill-opacity:1\" cx=\"269.443\" cy=\"1386.61\" r=\"61\"/>\n",
       "<circle clip-path=\"url(#clip6002)\" style=\"fill:#f2e45c; stroke:none; fill-opacity:1\" cx=\"269.443\" cy=\"1386.61\" r=\"57\"/>\n",
       "<circle clip-path=\"url(#clip6002)\" style=\"fill:#000000; stroke:none; fill-opacity:1\" cx=\"865.984\" cy=\"1386.61\" r=\"27\"/>\n",
       "<circle clip-path=\"url(#clip6002)\" style=\"fill:#771b6d; stroke:none; fill-opacity:1\" cx=\"865.984\" cy=\"1386.61\" r=\"24\"/>\n",
       "<circle clip-path=\"url(#clip6002)\" style=\"fill:#000000; stroke:none; fill-opacity:1\" cx=\"1462.53\" cy=\"1386.61\" r=\"10\"/>\n",
       "<circle clip-path=\"url(#clip6002)\" style=\"fill:#08051e; stroke:none; fill-opacity:1\" cx=\"1462.53\" cy=\"1386.61\" r=\"6\"/>\n",
       "<circle clip-path=\"url(#clip6002)\" style=\"fill:#000000; stroke:none; fill-opacity:1\" cx=\"2059.07\" cy=\"1386.61\" r=\"18\"/>\n",
       "<circle clip-path=\"url(#clip6002)\" style=\"fill:#3a0962; stroke:none; fill-opacity:1\" cx=\"2059.07\" cy=\"1386.61\" r=\"15\"/>\n",
       "<circle clip-path=\"url(#clip6002)\" style=\"fill:#000000; stroke:none; fill-opacity:1\" cx=\"269.443\" cy=\"1268.39\" r=\"62\"/>\n",
       "<circle clip-path=\"url(#clip6002)\" style=\"fill:#f2ec71; stroke:none; fill-opacity:1\" cx=\"269.443\" cy=\"1268.39\" r=\"58\"/>\n",
       "<circle clip-path=\"url(#clip6002)\" style=\"fill:#000000; stroke:none; fill-opacity:1\" cx=\"865.984\" cy=\"1268.39\" r=\"26\"/>\n",
       "<circle clip-path=\"url(#clip6002)\" style=\"fill:#6e186e; stroke:none; fill-opacity:1\" cx=\"865.984\" cy=\"1268.39\" r=\"22\"/>\n",
       "<circle clip-path=\"url(#clip6002)\" style=\"fill:#000000; stroke:none; fill-opacity:1\" cx=\"1462.53\" cy=\"1268.39\" r=\"11\"/>\n",
       "<circle clip-path=\"url(#clip6002)\" style=\"fill:#0c0726; stroke:none; fill-opacity:1\" cx=\"1462.53\" cy=\"1268.39\" r=\"7\"/>\n",
       "<circle clip-path=\"url(#clip6002)\" style=\"fill:#000000; stroke:none; fill-opacity:1\" cx=\"2059.07\" cy=\"1268.39\" r=\"7\"/>\n",
       "<circle clip-path=\"url(#clip6002)\" style=\"fill:#000003; stroke:none; fill-opacity:1\" cx=\"2059.07\" cy=\"1268.39\" r=\"3\"/>\n",
       "<circle clip-path=\"url(#clip6002)\" style=\"fill:#000000; stroke:none; fill-opacity:1\" cx=\"269.443\" cy=\"1150.18\" r=\"52\"/>\n",
       "<circle clip-path=\"url(#clip6002)\" style=\"fill:#fa9507; stroke:none; fill-opacity:1\" cx=\"269.443\" cy=\"1150.18\" r=\"49\"/>\n",
       "<circle clip-path=\"url(#clip6002)\" style=\"fill:#000000; stroke:none; fill-opacity:1\" cx=\"865.984\" cy=\"1150.18\" r=\"23\"/>\n",
       "<circle clip-path=\"url(#clip6002)\" style=\"fill:#5b116d; stroke:none; fill-opacity:1\" cx=\"865.984\" cy=\"1150.18\" r=\"19\"/>\n",
       "<circle clip-path=\"url(#clip6002)\" style=\"fill:#000000; stroke:none; fill-opacity:1\" cx=\"1462.53\" cy=\"1150.18\" r=\"14\"/>\n",
       "<circle clip-path=\"url(#clip6002)\" style=\"fill:#1c0b42; stroke:none; fill-opacity:1\" cx=\"1462.53\" cy=\"1150.18\" r=\"10\"/>\n",
       "<circle clip-path=\"url(#clip6002)\" style=\"fill:#000000; stroke:none; fill-opacity:1\" cx=\"2059.07\" cy=\"1150.18\" r=\"13\"/>\n",
       "<circle clip-path=\"url(#clip6002)\" style=\"fill:#150a37; stroke:none; fill-opacity:1\" cx=\"2059.07\" cy=\"1150.18\" r=\"9\"/>\n",
       "<circle clip-path=\"url(#clip6002)\" style=\"fill:#000000; stroke:none; fill-opacity:1\" cx=\"269.443\" cy=\"1031.97\" r=\"51\"/>\n",
       "<circle clip-path=\"url(#clip6002)\" style=\"fill:#f88a0b; stroke:none; fill-opacity:1\" cx=\"269.443\" cy=\"1031.97\" r=\"47\"/>\n",
       "<circle clip-path=\"url(#clip6002)\" style=\"fill:#000000; stroke:none; fill-opacity:1\" cx=\"865.984\" cy=\"1031.97\" r=\"25\"/>\n",
       "<circle clip-path=\"url(#clip6002)\" style=\"fill:#64146e; stroke:none; fill-opacity:1\" cx=\"865.984\" cy=\"1031.97\" r=\"21\"/>\n",
       "<circle clip-path=\"url(#clip6002)\" style=\"fill:#000000; stroke:none; fill-opacity:1\" cx=\"1462.53\" cy=\"1031.97\" r=\"15\"/>\n",
       "<circle clip-path=\"url(#clip6002)\" style=\"fill:#200b49; stroke:none; fill-opacity:1\" cx=\"1462.53\" cy=\"1031.97\" r=\"11\"/>\n",
       "<circle clip-path=\"url(#clip6002)\" style=\"fill:#000000; stroke:none; fill-opacity:1\" cx=\"2059.07\" cy=\"1031.97\" r=\"17\"/>\n",
       "<circle clip-path=\"url(#clip6002)\" style=\"fill:#34095f; stroke:none; fill-opacity:1\" cx=\"2059.07\" cy=\"1031.97\" r=\"14\"/>\n",
       "<circle clip-path=\"url(#clip6002)\" style=\"fill:#000000; stroke:none; fill-opacity:1\" cx=\"269.443\" cy=\"913.752\" r=\"40\"/>\n",
       "<circle clip-path=\"url(#clip6002)\" style=\"fill:#cc4248; stroke:none; fill-opacity:1\" cx=\"269.443\" cy=\"913.752\" r=\"36\"/>\n",
       "<circle clip-path=\"url(#clip6002)\" style=\"fill:#000000; stroke:none; fill-opacity:1\" cx=\"865.984\" cy=\"913.752\" r=\"27\"/>\n",
       "<circle clip-path=\"url(#clip6002)\" style=\"fill:#731a6d; stroke:none; fill-opacity:1\" cx=\"865.984\" cy=\"913.752\" r=\"23\"/>\n",
       "<circle clip-path=\"url(#clip6002)\" style=\"fill:#000000; stroke:none; fill-opacity:1\" cx=\"1462.53\" cy=\"913.752\" r=\"12\"/>\n",
       "<circle clip-path=\"url(#clip6002)\" style=\"fill:#10092f; stroke:none; fill-opacity:1\" cx=\"1462.53\" cy=\"913.752\" r=\"8\"/>\n",
       "<circle clip-path=\"url(#clip6002)\" style=\"fill:#000000; stroke:none; fill-opacity:1\" cx=\"2059.07\" cy=\"913.752\" r=\"13\"/>\n",
       "<circle clip-path=\"url(#clip6002)\" style=\"fill:#130a34; stroke:none; fill-opacity:1\" cx=\"2059.07\" cy=\"913.752\" r=\"9\"/>\n",
       "<circle clip-path=\"url(#clip6002)\" style=\"fill:#000000; stroke:none; fill-opacity:1\" cx=\"269.443\" cy=\"795.538\" r=\"46\"/>\n",
       "<circle clip-path=\"url(#clip6002)\" style=\"fill:#ea6428; stroke:none; fill-opacity:1\" cx=\"269.443\" cy=\"795.538\" r=\"42\"/>\n",
       "<circle clip-path=\"url(#clip6002)\" style=\"fill:#000000; stroke:none; fill-opacity:1\" cx=\"865.984\" cy=\"795.538\" r=\"25\"/>\n",
       "<circle clip-path=\"url(#clip6002)\" style=\"fill:#66156e; stroke:none; fill-opacity:1\" cx=\"865.984\" cy=\"795.538\" r=\"21\"/>\n",
       "<circle clip-path=\"url(#clip6002)\" style=\"fill:#000000; stroke:none; fill-opacity:1\" cx=\"1462.53\" cy=\"795.538\" r=\"24\"/>\n",
       "<circle clip-path=\"url(#clip6002)\" style=\"fill:#5e126e; stroke:none; fill-opacity:1\" cx=\"1462.53\" cy=\"795.538\" r=\"20\"/>\n",
       "<circle clip-path=\"url(#clip6002)\" style=\"fill:#000000; stroke:none; fill-opacity:1\" cx=\"2059.07\" cy=\"795.538\" r=\"11\"/>\n",
       "<circle clip-path=\"url(#clip6002)\" style=\"fill:#0a0622; stroke:none; fill-opacity:1\" cx=\"2059.07\" cy=\"795.538\" r=\"7\"/>\n",
       "<circle clip-path=\"url(#clip6002)\" style=\"fill:#000000; stroke:none; fill-opacity:1\" cx=\"269.443\" cy=\"677.324\" r=\"47\"/>\n",
       "<circle clip-path=\"url(#clip6002)\" style=\"fill:#ed6a23; stroke:none; fill-opacity:1\" cx=\"269.443\" cy=\"677.324\" r=\"43\"/>\n",
       "<circle clip-path=\"url(#clip6002)\" style=\"fill:#000000; stroke:none; fill-opacity:1\" cx=\"865.984\" cy=\"677.324\" r=\"27\"/>\n",
       "<circle clip-path=\"url(#clip6002)\" style=\"fill:#741a6d; stroke:none; fill-opacity:1\" cx=\"865.984\" cy=\"677.324\" r=\"23\"/>\n",
       "<circle clip-path=\"url(#clip6002)\" style=\"fill:#000000; stroke:none; fill-opacity:1\" cx=\"1462.53\" cy=\"677.324\" r=\"26\"/>\n",
       "<circle clip-path=\"url(#clip6002)\" style=\"fill:#70196d; stroke:none; fill-opacity:1\" cx=\"1462.53\" cy=\"677.324\" r=\"23\"/>\n",
       "<circle clip-path=\"url(#clip6002)\" style=\"fill:#000000; stroke:none; fill-opacity:1\" cx=\"2059.07\" cy=\"677.324\" r=\"17\"/>\n",
       "<circle clip-path=\"url(#clip6002)\" style=\"fill:#33095e; stroke:none; fill-opacity:1\" cx=\"2059.07\" cy=\"677.324\" r=\"14\"/>\n",
       "<circle clip-path=\"url(#clip6002)\" style=\"fill:#000000; stroke:none; fill-opacity:1\" cx=\"269.443\" cy=\"559.11\" r=\"39\"/>\n",
       "<circle clip-path=\"url(#clip6002)\" style=\"fill:#c93f4a; stroke:none; fill-opacity:1\" cx=\"269.443\" cy=\"559.11\" r=\"36\"/>\n",
       "<circle clip-path=\"url(#clip6002)\" style=\"fill:#000000; stroke:none; fill-opacity:1\" cx=\"865.984\" cy=\"559.11\" r=\"25\"/>\n",
       "<circle clip-path=\"url(#clip6002)\" style=\"fill:#66156e; stroke:none; fill-opacity:1\" cx=\"865.984\" cy=\"559.11\" r=\"21\"/>\n",
       "<circle clip-path=\"url(#clip6002)\" style=\"fill:#000000; stroke:none; fill-opacity:1\" cx=\"1462.53\" cy=\"559.11\" r=\"33\"/>\n",
       "<circle clip-path=\"url(#clip6002)\" style=\"fill:#a02a62; stroke:none; fill-opacity:1\" cx=\"1462.53\" cy=\"559.11\" r=\"30\"/>\n",
       "<circle clip-path=\"url(#clip6002)\" style=\"fill:#000000; stroke:none; fill-opacity:1\" cx=\"2059.07\" cy=\"559.11\" r=\"22\"/>\n",
       "<circle clip-path=\"url(#clip6002)\" style=\"fill:#530e6c; stroke:none; fill-opacity:1\" cx=\"2059.07\" cy=\"559.11\" r=\"18\"/>\n",
       "<circle clip-path=\"url(#clip6002)\" style=\"fill:#000000; stroke:none; fill-opacity:1\" cx=\"269.443\" cy=\"440.897\" r=\"50\"/>\n",
       "<circle clip-path=\"url(#clip6002)\" style=\"fill:#f78310; stroke:none; fill-opacity:1\" cx=\"269.443\" cy=\"440.897\" r=\"46\"/>\n",
       "<circle clip-path=\"url(#clip6002)\" style=\"fill:#000000; stroke:none; fill-opacity:1\" cx=\"865.984\" cy=\"440.897\" r=\"41\"/>\n",
       "<circle clip-path=\"url(#clip6002)\" style=\"fill:#d34742; stroke:none; fill-opacity:1\" cx=\"865.984\" cy=\"440.897\" r=\"38\"/>\n",
       "<circle clip-path=\"url(#clip6002)\" style=\"fill:#000000; stroke:none; fill-opacity:1\" cx=\"1462.53\" cy=\"440.897\" r=\"32\"/>\n",
       "<circle clip-path=\"url(#clip6002)\" style=\"fill:#962666; stroke:none; fill-opacity:1\" cx=\"1462.53\" cy=\"440.897\" r=\"28\"/>\n",
       "<circle clip-path=\"url(#clip6002)\" style=\"fill:#000000; stroke:none; fill-opacity:1\" cx=\"2059.07\" cy=\"440.897\" r=\"35\"/>\n",
       "<circle clip-path=\"url(#clip6002)\" style=\"fill:#ad305c; stroke:none; fill-opacity:1\" cx=\"2059.07\" cy=\"440.897\" r=\"32\"/>\n",
       "<circle clip-path=\"url(#clip6002)\" style=\"fill:#000000; stroke:none; fill-opacity:1\" cx=\"269.443\" cy=\"322.683\" r=\"40\"/>\n",
       "<circle clip-path=\"url(#clip6002)\" style=\"fill:#ca4049; stroke:none; fill-opacity:1\" cx=\"269.443\" cy=\"322.683\" r=\"36\"/>\n",
       "<circle clip-path=\"url(#clip6002)\" style=\"fill:#000000; stroke:none; fill-opacity:1\" cx=\"865.984\" cy=\"322.683\" r=\"37\"/>\n",
       "<circle clip-path=\"url(#clip6002)\" style=\"fill:#b93655; stroke:none; fill-opacity:1\" cx=\"865.984\" cy=\"322.683\" r=\"33\"/>\n",
       "<circle clip-path=\"url(#clip6002)\" style=\"fill:#000000; stroke:none; fill-opacity:1\" cx=\"1462.53\" cy=\"322.683\" r=\"39\"/>\n",
       "<circle clip-path=\"url(#clip6002)\" style=\"fill:#c9404a; stroke:none; fill-opacity:1\" cx=\"1462.53\" cy=\"322.683\" r=\"36\"/>\n",
       "<circle clip-path=\"url(#clip6002)\" style=\"fill:#000000; stroke:none; fill-opacity:1\" cx=\"2059.07\" cy=\"322.683\" r=\"45\"/>\n",
       "<circle clip-path=\"url(#clip6002)\" style=\"fill:#e7602c; stroke:none; fill-opacity:1\" cx=\"2059.07\" cy=\"322.683\" r=\"42\"/>\n",
       "<circle clip-path=\"url(#clip6002)\" style=\"fill:#000000; stroke:none; fill-opacity:1\" cx=\"269.443\" cy=\"204.469\" r=\"50\"/>\n",
       "<circle clip-path=\"url(#clip6002)\" style=\"fill:#f7840f; stroke:none; fill-opacity:1\" cx=\"269.443\" cy=\"204.469\" r=\"46\"/>\n",
       "<circle clip-path=\"url(#clip6002)\" style=\"fill:#000000; stroke:none; fill-opacity:1\" cx=\"865.984\" cy=\"204.469\" r=\"53\"/>\n",
       "<circle clip-path=\"url(#clip6002)\" style=\"fill:#fb9d07; stroke:none; fill-opacity:1\" cx=\"865.984\" cy=\"204.469\" r=\"49\"/>\n",
       "<circle clip-path=\"url(#clip6002)\" style=\"fill:#000000; stroke:none; fill-opacity:1\" cx=\"1462.53\" cy=\"204.469\" r=\"49\"/>\n",
       "<circle clip-path=\"url(#clip6002)\" style=\"fill:#f57d14; stroke:none; fill-opacity:1\" cx=\"1462.53\" cy=\"204.469\" r=\"46\"/>\n",
       "<circle clip-path=\"url(#clip6002)\" style=\"fill:#000000; stroke:none; fill-opacity:1\" cx=\"2059.07\" cy=\"204.469\" r=\"52\"/>\n",
       "<circle clip-path=\"url(#clip6002)\" style=\"fill:#f98f08; stroke:none; fill-opacity:1\" cx=\"2059.07\" cy=\"204.469\" r=\"48\"/>\n",
       "<circle clip-path=\"url(#clip6002)\" style=\"fill:#000000; stroke:none; fill-opacity:1\" cx=\"269.443\" cy=\"86.2547\" r=\"41\"/>\n",
       "<circle clip-path=\"url(#clip6002)\" style=\"fill:#d24743; stroke:none; fill-opacity:1\" cx=\"269.443\" cy=\"86.2547\" r=\"37\"/>\n",
       "<circle clip-path=\"url(#clip6002)\" style=\"fill:#000000; stroke:none; fill-opacity:1\" cx=\"865.984\" cy=\"86.2547\" r=\"64\"/>\n",
       "<circle clip-path=\"url(#clip6002)\" style=\"fill:#fcfea4; stroke:none; fill-opacity:1\" cx=\"865.984\" cy=\"86.2547\" r=\"61\"/>\n",
       "<circle clip-path=\"url(#clip6002)\" style=\"fill:#000000; stroke:none; fill-opacity:1\" cx=\"1462.53\" cy=\"86.2547\" r=\"56\"/>\n",
       "<circle clip-path=\"url(#clip6002)\" style=\"fill:#faba20; stroke:none; fill-opacity:1\" cx=\"1462.53\" cy=\"86.2547\" r=\"53\"/>\n",
       "<circle clip-path=\"url(#clip6002)\" style=\"fill:#000000; stroke:none; fill-opacity:1\" cx=\"2059.07\" cy=\"86.2547\" r=\"61\"/>\n",
       "<circle clip-path=\"url(#clip6002)\" style=\"fill:#f2e35b; stroke:none; fill-opacity:1\" cx=\"2059.07\" cy=\"86.2547\" r=\"57\"/>\n",
       "<defs>\n",
       "  <clipPath id=\"clip6003\">\n",
       "    <rect x=\"2160\" y=\"47\" width=\"73\" height=\"1379\"/>\n",
       "  </clipPath>\n",
       "</defs>\n",
       "<g clip-path=\"url(#clip6003)\">\n",
       "<image width=\"72\" height=\"1378\" xlink:href=\"data:image/png;base64,\n",
       "iVBORw0KGgoAAAANSUhEUgAAAEgAAAViCAYAAACh4rqwAAAL4UlEQVR4nO3dwZHrRhAFQVDR/lsh\n",
       "L6U/IwvUdQQOmRZsVLwAOQDJ/f17/r4P/+uvt/+ArxMoCBQECgKFOffft/+GT7OgIFAQKAgU5rpI\n",
       "rywoCBQECgIFgcLc41VsY0FBoCBQECg4agQLCgIFgYJAwUU6WFAQKAgUBAoCBa9iwYKCQEGgIFBw\n",
       "0z5YUBAoCBQECgIFR41gQUGgIFAQKLhIBwsKAgWBgkBhHveDVhYUBAoCBYGCQMGrWLCgIFAQKAgU\n",
       "5nE/aGVBQaAgUBAoeCcdLCgIFAQKAgWBglexYEFBoCBQECjMc/55+2/4NAsKAgWBgkBBoOCpRrCg\n",
       "IFAQKAgU3A8KFhQECgIFgYKLdLCgIFAQKAgUBArzu3/e/hs+zYKCQEGgIFCY57hIbywoCBQECgIF\n",
       "gcL8vIqtLCgIFAQKAgVHjWBBQaAgUBAozOOm/cqCgkBBoCBQECi4HxQsKAgUBAoCBfeDggUFgYJA\n",
       "QaDgnXSwoCBQECgIFAQKjhrBgoJAQaAgUJjfOW//DZ9mQUGgIFAQKAgUHDWCBQWBgkBBoOAiHSwo\n",
       "CBQECgIFj56DBQWBgkBBoCBQmMdTjZUFBYGCQEGg4KgRLCgIFAQKAgWBgqcawYKCQEGgIFBwkQ4W\n",
       "FAQKAgWBgq8iBAsKAgWBgkBBoODRc7CgIFAQKAgU3A8KFhQECgIFgYJ30sGCgkBBoCBQECh4FQsW\n",
       "FAQKAgWBgkfPwYKCQEGgIFAQKHiqESwoCBQECgIF94OCBQWBgkBBoOAiHSwoCBQECgIFgYJXsWBB\n",
       "QaAgUBAozHPu23/Dp1lQECgIFAQK81zvpDcWFAQKAgWBgkDB/aBgQUGgIFAQKLgfFCwoCBQECgIF\n",
       "gYKjRrCgIFAQKAgUXKSDBQWBgkBBoOB+ULCgIFAQKAgUBAqOGsGCgkBBoCBQmMc1emVBQaAgUBAo\n",
       "CBS8igULCgIFgYJAYXyfbmdBQaAgUBAoeCcdLCgIFAQKAgWBglexYEFBoCBQECi4SAcLCgIFgYJA\n",
       "YR7fRFhZUBAoCBQECgKFuef39t/waRYUBAoCBYGC+0HBgoJAQaAgUBAozOOosbKgIFAQKAgU5l4X\n",
       "6Y0FBYGCQEGg4J10sKAgUBAoCBQECl7FggUFgYJAQaDgflCwoCBQECgIFAQKjhrBgoJAQaAgUJjn\n",
       "aLRRJwgUBAoCBfeDggUFgYJAQaAgUHA/KFhQECgIFAQKfpoiWFAQKAgUBArzXI026gSBgkBBoCBQ\n",
       "cNQIFhQECgIFgYKLdLCgIFAQKAgUBAo+5RrUCQIFgYJAwadcgwUFgYJAQaDgQ5zBgoJAQaAgUBAo\n",
       "zHU/aKVOECgIFAQK7gcFCwoCBYGCQEGg4IZZsKAgUBAoCBTcDwrqBIGCQEGg4H5QsKAgUBAoCBQE\n",
       "Cr5QFywoCBQECgKFuX5gaaVOECgIFAQKnqwGCwoCBYGCQEGg4H5QsKAgUBAoCBQ8eg4WFAQKAgWB\n",
       "gkDBp1yDOkGgIFAQKDhqBAsKAgWBgkDBTftgQUGgIFAQKAgUHDWCBQWBgkBBoOCmfVAnCBQECgIF\n",
       "76SDBQWBgkBBoCBQ8FQjWFAQKAgUBAqOGsGCgkBBoCBQECh4qhHUCQIFgYJAwVEjWFAQKAgUBAou\n",
       "0sGCgkBBoCBQECh4FQsWFAQKAgWBgs8HBQsKAgWBgkBBoDDH//ZZqRMECgIFgYL7QcGCgkBBoCBQ\n",
       "cD8oWFAQKAgUBAoCBUeNYEFBoCBQECi4SAcLCgIFgYJAwUU6WFAQKAgUBAoCBa9iwYKCQEGgIFCY\n",
       "4yK9sqAgUBAoCBQECo4awYKCQEGgIFBwkQ4WFAQKAgWBgot0sKAgUBAoCBQECl7FggUFgYJAQaDg\n",
       "Ih0sKAgUBAoCBYGCD1AFCwoCBYGCQMFRI1hQECgIFAQKLtLBgoJAQaAgUBAo+K8IQZ0gUBAoCBQc\n",
       "NYIFBYGCQEGg4MlqsKAgUBAoCBQECo4awYKCQEGgIFBw1AgWFAQKAgWBgkDBUSNYUBAoCBQECi7S\n",
       "wYKCQEGgIFBwPyhYUBAoCBQECgKFuY9XsY0FBYGCQEGg4KgRLCgIFAQKAgU37YMFBYGCQEGgIFCY\n",
       "c9/+E77NgoJAQaAgUHDUCBYUBAoCBYGCQMFTjWBBQaAgUBAozPH5oJUFBYGCQEGg4H5QsKAgUBAo\n",
       "CBQECu4HBQsKAgWBgkDBUSNYUBAoCBQECgKFOW//BR9nQUGgIFAQKDhqBAsKAgWBgkDBTftgQUGg\n",
       "IFAQKAgU/ApesKAgUBAoCBQcNYIFBYGCQEGg4PeDggUFgYJAQaAgUHA/KFhQECgIFAQKPh8ULCgI\n",
       "FAQKAgWBgq8iBAsKAgWBgkDBUSNYUBAoCBQECt5JBwsKAgWBgkBBoOCoESwoCBQECgIFX0UIFhQE\n",
       "CgIFgYJAYXxVY2dBQaAgUBAoOGoECwoCBYGCQME76WBBQaAgUBAoCBQcNYIFBYGCQEGg4KgRLCgI\n",
       "FAQKAgXvpIMFBYGCQEGgIFDwW67BgoJAQaAgUPBTpcGCgkBBoCBQECg4agQLCgIFgYJAYY6jxsqC\n",
       "gkBBoCBQmOud9MqCgkBBoCBQECj4AFWwoCBQECgIFHwVIVhQECgIFAQKAgWPnoMFBYGCQEGg4NFz\n",
       "sKAgUBAoCBQ8eg4WFAQKAgWBgkDBvxENFhQECgIFgYLPBwULCgIFgYJAwf2gYEFBoCBQECgIFNwP\n",
       "ChYUBAoCBYGCo0awoCBQECgIFAQKPuUaLCgIFAQKAgXfFwsWFAQKAgWBgp+mCBYUBAoCBYGCQMFR\n",
       "I1hQECgIFAQKLtLBgoJAQaAgUPBfMoMFBYGCQEGgIFBw1AgWFAQKAgWBgkfPwYKCQEGgIFAQKDhq\n",
       "BAsKAgWBgkDBRTpYUBAoCBQECu4HBQsKAgWBgkBBoOCoESwoCBQECgIFP1UaLCgIFAQKAgWBgt9y\n",
       "DRYUBAoCBYGC+0HBgoJAQaAgUPDoOVhQECgIFAQKAgVHjWBBQaAgUBAozH1cpTcWFAQKAgWBgnfS\n",
       "wYKCQEGgIFAQKHiqESwoCBQECgIFR41gQUGgIFAQKAgUHDWCBQWBgkBBoOCoESwoCBQECgIFX+oN\n",
       "FhQECgIFgYJAYY5Pua4sKAgUBAoCBUeNYEFBoCBQECgIFBw1ggUFgYJAQaDgB7eDBQWBgkBBoDDX\n",
       "DaGVBQWBgkBBoCBQcNQIFhQECgIFgYKvIgQLCgIFgYJAwU+VBgsKAgWBgkBBoOCoESwoCBQECgIF\n",
       "H+IMFhQECgIFgYJAwQ2zYEFBoCBQECg4agQLCgIFgYJAwUU6WFAQKAgUBAoChTm+ULeyoCBQECgI\n",
       "FNy0DxYUBAoCBYGCQMENs2BBQaAgUBAouEgHCwoCBYGCQMFFOlhQECgIFAQKAoW5j9/B21hQECgI\n",
       "FAQKjhrBgoJAQaAgUJjz8056Y0FBoCBQECgIFOa4H7SyoCBQECgIFFykgwUFgYJAQaAgUPDoOVhQ\n",
       "ECgIFAQKc34ePW8sKAgUBAoCBfeDggUFgYJAQaAgUPAqFiwoCBQECgIFN+2DBQWBgkBBoDDn+fP2\n",
       "3/BpFhQECgIFgYJAwf2gYEFBoCBQECjMddRYWVAQKAgUBAoCBUeNYEFBoCBQECi4SAcLCgIFgYJA\n",
       "wf2gYEFBoCBQECgIFBw1ggUFgYJAQaDgqBEsKAgUBAoCBYGCL9QFCwoCBYGCQGHOdZHeWFAQKAgU\n",
       "BAreSQcLCgIFgYJAQaAw11FjZUFBoCBQECg4agQLCgIFgYJAweeDggUFgYJAQaAgUPDoOVhQECgI\n",
       "FAQK7gcFCwoCBYGCQEGg4NFzsKAgUBAoCBQ81QgWFAQKAgWBgnfSwYKCQEGgIFAQKHiqESwoCBQE\n",
       "CgIFR41gQUGgIFAQKAgUPNUIFhQECgIFgYKjRrCgIFAQKAgU3LQPFhQECgIFgYJAYe51P2hjQUGg\n",
       "IFAQKDhqBAsKAgWBgkBhnnvf/hs+zYKCQEGgIFAQKMzjqLGyoCBQECgIFHw+KFhQECgIFAQKAgVH\n",
       "jWBBQaAgUBAoePQcLCgIFAQKAoV53A9aWVAQKAgUBAoCBUeNYEFBoCBQECi4aR8sKAgUBAoChf8A\n",
       "+s3v0zvrtvoAAAAASUVORK5CYII=\n",
       "\" transform=\"translate(2161, 47)\"/>\n",
       "</g>\n",
       "<g clip-path=\"url(#clip6000)\">\n",
       "<text style=\"fill:#000000; fill-opacity:1; font-family:Arial,Helvetica Neue,Helvetica,sans-serif; font-size:48px; text-anchor:start;\" transform=\"rotate(0, 2268.76, 1299.71)\" x=\"2268.76\" y=\"1299.71\">0.12</text>\n",
       "</g>\n",
       "<g clip-path=\"url(#clip6000)\">\n",
       "<text style=\"fill:#000000; fill-opacity:1; font-family:Arial,Helvetica Neue,Helvetica,sans-serif; font-size:48px; text-anchor:start;\" transform=\"rotate(0, 2268.76, 1096.33)\" x=\"2268.76\" y=\"1096.33\">0.13</text>\n",
       "</g>\n",
       "<g clip-path=\"url(#clip6000)\">\n",
       "<text style=\"fill:#000000; fill-opacity:1; font-family:Arial,Helvetica Neue,Helvetica,sans-serif; font-size:48px; text-anchor:start;\" transform=\"rotate(0, 2268.76, 892.954)\" x=\"2268.76\" y=\"892.954\">0.14</text>\n",
       "</g>\n",
       "<g clip-path=\"url(#clip6000)\">\n",
       "<text style=\"fill:#000000; fill-opacity:1; font-family:Arial,Helvetica Neue,Helvetica,sans-serif; font-size:48px; text-anchor:start;\" transform=\"rotate(0, 2268.76, 689.577)\" x=\"2268.76\" y=\"689.577\">0.15</text>\n",
       "</g>\n",
       "<g clip-path=\"url(#clip6000)\">\n",
       "<text style=\"fill:#000000; fill-opacity:1; font-family:Arial,Helvetica Neue,Helvetica,sans-serif; font-size:48px; text-anchor:start;\" transform=\"rotate(0, 2268.76, 486.199)\" x=\"2268.76\" y=\"486.199\">0.16</text>\n",
       "</g>\n",
       "<g clip-path=\"url(#clip6000)\">\n",
       "<text style=\"fill:#000000; fill-opacity:1; font-family:Arial,Helvetica Neue,Helvetica,sans-serif; font-size:48px; text-anchor:start;\" transform=\"rotate(0, 2268.76, 282.822)\" x=\"2268.76\" y=\"282.822\">0.17</text>\n",
       "</g>\n",
       "<g clip-path=\"url(#clip6000)\">\n",
       "<text style=\"fill:#000000; fill-opacity:1; font-family:Arial,Helvetica Neue,Helvetica,sans-serif; font-size:48px; text-anchor:start;\" transform=\"rotate(0, 2268.76, 79.4441)\" x=\"2268.76\" y=\"79.4441\">0.18</text>\n",
       "</g>\n",
       "<polyline clip-path=\"url(#clip6000)\" style=\"stroke:#000000; stroke-width:4; stroke-opacity:1; fill:none\" points=\"\n",
       "  2232.76,1425.62 2232.76,1286.06 2256.76,1286.06 2232.76,1286.06 2232.76,1082.68 2256.76,1082.68 2232.76,1082.68 2232.76,879.303 2256.76,879.303 2232.76,879.303 \n",
       "  2232.76,675.926 2256.76,675.926 2232.76,675.926 2232.76,472.548 2256.76,472.548 2232.76,472.548 2232.76,269.17 2256.76,269.17 2232.76,269.17 2232.76,65.7929 \n",
       "  2256.76,65.7929 2232.76,65.7929 2232.76,47.2441 \n",
       "  \"/>\n",
       "<g clip-path=\"url(#clip6000)\">\n",
       "<text style=\"fill:#000000; fill-opacity:1; font-family:Arial,Helvetica Neue,Helvetica,sans-serif; font-size:66px; text-anchor:middle;\" transform=\"rotate(-90, 2410.36, 736.431)\" x=\"2410.36\" y=\"736.431\"></text>\n",
       "</g>\n",
       "</svg>\n"
      ]
     },
     "execution_count": 30,
     "metadata": {},
     "output_type": "execute_result"
    }
   ],
   "source": [
    "plot(mach)"
   ]
  },
  {
   "cell_type": "markdown",
   "metadata": {},
   "source": [
    "## 3. Learning Networks"
   ]
  },
  {
   "cell_type": "code",
   "execution_count": 31,
   "metadata": {},
   "outputs": [
    {
     "data": {
      "text/plain": [
       "\u001b[34mSupervisedTask @ 1…92\u001b[39m\n"
      ]
     },
     "execution_count": 31,
     "metadata": {},
     "output_type": "execute_result"
    }
   ],
   "source": [
    "task = load_reduced_ames()"
   ]
  },
  {
   "cell_type": "code",
   "execution_count": 32,
   "metadata": {},
   "outputs": [
    {
     "data": {
      "text/plain": [
       "(OverallQual = Continuous,\n",
       " GrLivArea = Continuous,\n",
       " Neighborhood = Multiclass{25},\n",
       " x1stFlrSF = Continuous,\n",
       " TotalBsmtSF = Continuous,\n",
       " BsmtFinSF1 = Continuous,\n",
       " LotArea = Continuous,\n",
       " GarageCars = Continuous,\n",
       " MSSubClass = Multiclass{15},\n",
       " GarageArea = Continuous,\n",
       " YearRemodAdd = Continuous,\n",
       " YearBuilt = Continuous,)"
      ]
     },
     "execution_count": 32,
     "metadata": {},
     "output_type": "execute_result"
    }
   ],
   "source": [
    "X, y = task.X, task.y;\n",
    "scitypes(X)"
   ]
  },
  {
   "cell_type": "code",
   "execution_count": 33,
   "metadata": {},
   "outputs": [
    {
     "data": {
      "text/plain": [
       "Dict{Any,Any} with 1 entry:\n",
       "  \"MLJ\" => Any[\"MLJ.Constant.DeterministicConstantRegressor\"]"
      ]
     },
     "execution_count": 33,
     "metadata": {},
     "output_type": "execute_result"
    }
   ],
   "source": [
    "models(task)"
   ]
  },
  {
   "cell_type": "markdown",
   "metadata": {},
   "source": [
    "## Workflow without a pipeline (static data)"
   ]
  },
  {
   "cell_type": "code",
   "execution_count": 34,
   "metadata": {},
   "outputs": [
    {
     "name": "stderr",
     "output_type": "stream",
     "text": [
      "┌ Info: Training \u001b[34mMachine{OneHotEncoder} @ 7…39\u001b[39m.\n",
      "└ @ MLJ /Users/anthony/.julia/packages/MLJ/JVPRT/src/machines.jl:135\n",
      "┌ Info: Spawning 25 sub-features to one-hot encode feature :Neighborhood.\n",
      "└ @ MLJ.Transformers /Users/anthony/.julia/packages/MLJ/JVPRT/src/builtins/Transformers.jl:445\n",
      "┌ Info: Spawning 15 sub-features to one-hot encode feature :MSSubClass.\n",
      "└ @ MLJ.Transformers /Users/anthony/.julia/packages/MLJ/JVPRT/src/builtins/Transformers.jl:445\n",
      "┌ Info: Training \u001b[34mMachine{KNNRegressor} @ 3…76\u001b[39m.\n",
      "└ @ MLJ /Users/anthony/.julia/packages/MLJ/JVPRT/src/machines.jl:135\n"
     ]
    },
    {
     "data": {
      "text/plain": [
       "1456-element Array{Float64,1}:\n",
       " 120499.99999999994\n",
       " 394432.00000000023\n",
       " 177999.99999999994\n",
       " 179999.99999999997\n",
       " 154000.00000000003\n",
       " 131999.99999999994\n",
       " 197000.00000000012\n",
       " 132249.9999999997 \n",
       " 186700.00000000006\n",
       " 214000.00000000006\n",
       " 221500.00000000032\n",
       "  85500.0          \n",
       " 177999.99999999994\n",
       "      ⋮            \n",
       " 146800.0          \n",
       " 259999.99999999968\n",
       " 207000.0000000001 \n",
       " 177000.00000000038\n",
       " 139999.9999999999 \n",
       " 200499.99999999997\n",
       " 139999.9999999999 \n",
       " 113000.0          \n",
       " 179600.0          \n",
       " 124500.00000000015\n",
       " 188499.99999999997\n",
       " 107900.00000000003"
      ]
     },
     "execution_count": 34,
     "metadata": {},
     "output_type": "execute_result"
    }
   ],
   "source": [
    "hot = OneHotEncoder()\n",
    "hotM = machine(hot, X)\n",
    "fit!(hotM)\n",
    "Xc = transform(hotM, X)\n",
    "\n",
    "knn = KNNRegressor()\n",
    "knnM = machine(knn, Xc, y)\n",
    "fit!(knnM)\n",
    "yhat= predict(knnM, Xc)"
   ]
  },
  {
   "cell_type": "markdown",
   "metadata": {},
   "source": [
    "## Pipelining (dynamic data)"
   ]
  },
  {
   "cell_type": "code",
   "execution_count": 35,
   "metadata": {},
   "outputs": [
    {
     "data": {
      "text/plain": [
       "\u001b[34mSource @ 1…31\u001b[39m"
      ]
     },
     "execution_count": 35,
     "metadata": {},
     "output_type": "execute_result"
    }
   ],
   "source": [
    "X = source(X)\n",
    "y = source(y)"
   ]
  },
  {
   "cell_type": "markdown",
   "metadata": {},
   "source": [
    "Identical code to build network (`fit!`'s can be dropped)"
   ]
  },
  {
   "cell_type": "code",
   "execution_count": 36,
   "metadata": {},
   "outputs": [
    {
     "data": {
      "text/plain": [
       "\u001b[34mNode @ 5…23\u001b[39m = predict(\u001b[0m\u001b[1m1…53\u001b[22m, transform(\u001b[0m\u001b[1m4…11\u001b[22m, \u001b[34m5…51\u001b[39m))"
      ]
     },
     "execution_count": 36,
     "metadata": {},
     "output_type": "execute_result"
    }
   ],
   "source": [
    "hot = OneHotEncoder()\n",
    "hotM = machine(hot, X)\n",
    "Xc = transform(hotM, X)\n",
    "\n",
    "knn = KNNRegressor()\n",
    "knnM = machine(knn, Xc, y)\n",
    "yhat = predict(knnM, Xc)"
   ]
  },
  {
   "cell_type": "markdown",
   "metadata": {},
   "source": [
    "Fit the network in one go:"
   ]
  },
  {
   "cell_type": "code",
   "execution_count": 37,
   "metadata": {},
   "outputs": [
    {
     "name": "stderr",
     "output_type": "stream",
     "text": [
      "┌ Info: Training \u001b[34mNodalMachine{OneHotEncoder} @ 4…11\u001b[39m.\n",
      "└ @ MLJ /Users/anthony/.julia/packages/MLJ/JVPRT/src/machines.jl:135\n",
      "┌ Info: Spawning 25 sub-features to one-hot encode feature :Neighborhood.\n",
      "└ @ MLJ.Transformers /Users/anthony/.julia/packages/MLJ/JVPRT/src/builtins/Transformers.jl:445\n",
      "┌ Info: Spawning 15 sub-features to one-hot encode feature :MSSubClass.\n",
      "└ @ MLJ.Transformers /Users/anthony/.julia/packages/MLJ/JVPRT/src/builtins/Transformers.jl:445\n",
      "┌ Info: Training \u001b[34mNodalMachine{KNNRegressor} @ 1…53\u001b[39m.\n",
      "└ @ MLJ /Users/anthony/.julia/packages/MLJ/JVPRT/src/machines.jl:135\n"
     ]
    },
    {
     "data": {
      "text/plain": [
       "\u001b[34mNode @ 5…23\u001b[39m = predict(\u001b[0m\u001b[1m1…53\u001b[22m, transform(\u001b[0m\u001b[1m4…11\u001b[22m, \u001b[34m5…51\u001b[39m))"
      ]
     },
     "execution_count": 37,
     "metadata": {},
     "output_type": "execute_result"
    }
   ],
   "source": [
    "fit!(yhat)"
   ]
  },
  {
   "cell_type": "code",
   "execution_count": 38,
   "metadata": {},
   "outputs": [
    {
     "data": {
      "text/plain": [
       "true"
      ]
     },
     "execution_count": 38,
     "metadata": {},
     "output_type": "execute_result"
    }
   ],
   "source": [
    "hot.drop_last=true"
   ]
  },
  {
   "cell_type": "code",
   "execution_count": 39,
   "metadata": {},
   "outputs": [
    {
     "name": "stderr",
     "output_type": "stream",
     "text": [
      "┌ Info: Updating \u001b[34mNodalMachine{OneHotEncoder} @ 4…11\u001b[39m.\n",
      "└ @ MLJ /Users/anthony/.julia/packages/MLJ/JVPRT/src/machines.jl:147\n",
      "┌ Info: Spawning 24 sub-features to one-hot encode feature :Neighborhood.\n",
      "└ @ MLJ.Transformers /Users/anthony/.julia/packages/MLJ/JVPRT/src/builtins/Transformers.jl:445\n",
      "┌ Info: Spawning 14 sub-features to one-hot encode feature :MSSubClass.\n",
      "└ @ MLJ.Transformers /Users/anthony/.julia/packages/MLJ/JVPRT/src/builtins/Transformers.jl:445\n",
      "┌ Info: Training \u001b[34mNodalMachine{KNNRegressor} @ 1…53\u001b[39m.\n",
      "└ @ MLJ /Users/anthony/.julia/packages/MLJ/JVPRT/src/machines.jl:135\n"
     ]
    },
    {
     "data": {
      "text/plain": [
       "\u001b[34mNode @ 5…23\u001b[39m = predict(\u001b[0m\u001b[1m1…53\u001b[22m, transform(\u001b[0m\u001b[1m4…11\u001b[22m, \u001b[34m5…51\u001b[39m))"
      ]
     },
     "execution_count": 39,
     "metadata": {},
     "output_type": "execute_result"
    }
   ],
   "source": [
    "fit!(yhat)"
   ]
  },
  {
   "cell_type": "code",
   "execution_count": 40,
   "metadata": {},
   "outputs": [
    {
     "data": {
      "text/plain": [
       "7"
      ]
     },
     "execution_count": 40,
     "metadata": {},
     "output_type": "execute_result"
    }
   ],
   "source": [
    "knn.K = 7"
   ]
  },
  {
   "cell_type": "code",
   "execution_count": 41,
   "metadata": {},
   "outputs": [
    {
     "name": "stderr",
     "output_type": "stream",
     "text": [
      "┌ Info: Not retraining \u001b[34mNodalMachine{OneHotEncoder} @ 4…11\u001b[39m.\n",
      "│  It appears up-to-date. Use force=true to force retraining.\n",
      "└ @ MLJ /Users/anthony/.julia/packages/MLJ/JVPRT/src/machines.jl:141\n",
      "┌ Info: Updating \u001b[34mNodalMachine{KNNRegressor} @ 1…53\u001b[39m.\n",
      "└ @ MLJ /Users/anthony/.julia/packages/MLJ/JVPRT/src/machines.jl:147\n"
     ]
    },
    {
     "data": {
      "text/plain": [
       "\u001b[34mNode @ 5…23\u001b[39m = predict(\u001b[0m\u001b[1m1…53\u001b[22m, transform(\u001b[0m\u001b[1m4…11\u001b[22m, \u001b[34m5…51\u001b[39m))"
      ]
     },
     "execution_count": 41,
     "metadata": {},
     "output_type": "execute_result"
    }
   ],
   "source": [
    "fit!(yhat)"
   ]
  },
  {
   "cell_type": "markdown",
   "metadata": {},
   "source": [
    "Instead of `yhat[1:10]` we have"
   ]
  },
  {
   "cell_type": "code",
   "execution_count": 42,
   "metadata": {},
   "outputs": [
    {
     "data": {
      "text/plain": [
       "10-element Array{Float64,1}:\n",
       " 130843.81386332486\n",
       " 332544.9587051817 \n",
       " 176265.28435047154\n",
       " 203767.82439615295\n",
       " 136978.84622897732\n",
       " 131724.92769429702\n",
       " 165692.5091058007 \n",
       " 168885.5731044217 \n",
       " 264652.80291212286\n",
       " 227115.12340804684"
      ]
     },
     "execution_count": 42,
     "metadata": {},
     "output_type": "execute_result"
    }
   ],
   "source": [
    "yhat(rows=1:10)"
   ]
  },
  {
   "cell_type": "markdown",
   "metadata": {},
   "source": [
    "Or call on new data:"
   ]
  },
  {
   "cell_type": "code",
   "execution_count": 43,
   "metadata": {},
   "outputs": [
    {
     "data": {
      "text/plain": [
       "1456-element Array{Float64,1}:\n",
       " 130843.81386332486\n",
       " 332544.9587051817 \n",
       " 176265.28435047154\n",
       " 203767.82439615295\n",
       " 136978.84622897732\n",
       " 131724.92769429702\n",
       " 165692.5091058007 \n",
       " 168885.5731044217 \n",
       " 264652.80291212286\n",
       " 227115.12340804684\n",
       " 227608.92033231404\n",
       "  96653.56535548567\n",
       " 156482.38720447902\n",
       "      ⋮            \n",
       " 163011.92666397232\n",
       " 234694.41638974738\n",
       " 181699.23386663786\n",
       " 174039.51818329454\n",
       " 187881.6364677814 \n",
       " 213099.97613132483\n",
       " 154150.33752145662\n",
       " 110888.20670833573\n",
       " 192930.85515013785\n",
       " 155675.29688294962\n",
       " 168567.02190210234\n",
       " 113090.15018077038"
      ]
     },
     "execution_count": 43,
     "metadata": {},
     "output_type": "execute_result"
    }
   ],
   "source": [
    "yhat(task.X)"
   ]
  },
  {
   "cell_type": "markdown",
   "metadata": {},
   "source": [
    "The new data is \"plugged into\" the orgin node, which must be unique:"
   ]
  },
  {
   "cell_type": "code",
   "execution_count": 44,
   "metadata": {},
   "outputs": [
    {
     "data": {
      "text/plain": [
       "true"
      ]
     },
     "execution_count": 44,
     "metadata": {},
     "output_type": "execute_result"
    }
   ],
   "source": [
    "origins(yhat) == [X,]"
   ]
  },
  {
   "cell_type": "markdown",
   "metadata": {},
   "source": [
    "## Exporting pipeline as stand-alone model"
   ]
  },
  {
   "cell_type": "code",
   "execution_count": 45,
   "metadata": {},
   "outputs": [
    {
     "data": {
      "text/plain": [
       "SmartKNNRegressor(one_hot_encoding = \u001b[34mOneHotEncoder @ 8…13\u001b[39m,\n",
       "                  knn_regressor = \u001b[34mKNNRegressor @ 6…96\u001b[39m,)\u001b[34m @ 7…87\u001b[39m"
      ]
     },
     "execution_count": 45,
     "metadata": {},
     "output_type": "execute_result"
    }
   ],
   "source": [
    "comp = @from_network SmartKNNRegressor(one_hot_encoding=hot, knn_regressor=knn) <= (X, y, yhat)"
   ]
  },
  {
   "cell_type": "code",
   "execution_count": 46,
   "metadata": {},
   "outputs": [
    {
     "name": "stderr",
     "output_type": "stream",
     "text": [
      "┌ Info: Evaluating using cross-validation. \n",
      "│ nfolds=6. \n",
      "│ shuffle=false \n",
      "│ measure=MLJ.rms \n",
      "│ operation=StatsBase.predict \n",
      "│ Resampling from all rows. \n",
      "└ @ MLJ /Users/anthony/.julia/packages/MLJ/JVPRT/src/resampling.jl:137\n",
      "\u001b[33mCross-validating: 100%[=========================] Time: 0:00:02\u001b[39m\n"
     ]
    },
    {
     "data": {
      "text/plain": [
       "(x1 = [0.630109, 0.343689, 0.615223, 0.445589, 0.480894, 0.189847],\n",
       " x2 = CategoricalValue{Int64,UInt32}[0, 0, 1, 0, 0, 1],\n",
       " x3 = [0.970981, 0.686989, 0.317158, 0.687898, 0.498569, 0.449293],)"
      ]
     },
     "execution_count": 46,
     "metadata": {},
     "output_type": "execute_result"
    }
   ],
   "source": [
    "params(comp)\n",
    "mach = machine(comp, task)\n",
    "evaluate!(mach, measure=rms)\n",
    "\n",
    "\n",
    "# # More complicated example\n",
    "\n",
    "using CategoricalArrays\n",
    "x1 = rand(6);\n",
    "x2 = categorical([mod(rand(Int),2) for i in 1:6]);\n",
    "x3 = rand(6);\n",
    "y = exp.(x1 -2x3 + 0.1*rand(6))\n",
    "X = (x1=x1, x2=x2, x3=x3)"
   ]
  },
  {
   "cell_type": "markdown",
   "metadata": {},
   "source": [
    "Here's a learning network that: (i) One-hot encodes the input table `X`; (ii)\n",
    "Log transforms the continuous target `y`; (iii) Fits specified\n",
    "K-nearest neighbour and ridge regressor models to the data; (iv)\n",
    "Computes an average of individual model predictions; and (v) Inverse\n",
    "transforms (exponentiates) the blended predictions."
   ]
  },
  {
   "cell_type": "code",
   "execution_count": 47,
   "metadata": {},
   "outputs": [
    {
     "name": "stderr",
     "output_type": "stream",
     "text": [
      "┌ Info: A model named \"RidgeRegressor\" is already loaded.\n",
      "│ Nothing new loaded. \n",
      "└ @ MLJ /Users/anthony/.julia/packages/MLJ/JVPRT/src/loading.jl:195\n"
     ]
    },
    {
     "data": {
      "text/plain": [
       "\u001b[0m\u001b[1mNodalMachine @ 1…88\u001b[22m = machine(\u001b[34mOneHotEncoder @ 1…21\u001b[39m, \u001b[0m\u001b[1m1…64\u001b[22m)"
      ]
     },
     "execution_count": 47,
     "metadata": {},
     "output_type": "execute_result"
    }
   ],
   "source": [
    "@load RidgeRegressor\n",
    "\n",
    "X = source(X)\n",
    "y = source(y)\n",
    "\n",
    "hot = machine(OneHotEncoder(), X)"
   ]
  },
  {
   "cell_type": "markdown",
   "metadata": {},
   "source": [
    "`W`, `z`, `zhat` and `yhat` are nodes in the network:"
   ]
  },
  {
   "cell_type": "code",
   "execution_count": 48,
   "metadata": {},
   "outputs": [
    {
     "data": {
      "text/plain": [
       "\u001b[0m\u001b[1mNodalMachine @ 1…39\u001b[22m = machine(\u001b[34mKNNRegressor @ 3…87\u001b[39m, \u001b[0m\u001b[1m1…95\u001b[22m, \u001b[0m\u001b[1m1…93\u001b[22m)"
      ]
     },
     "execution_count": 48,
     "metadata": {},
     "output_type": "execute_result"
    }
   ],
   "source": [
    "W = transform(hot, X) # one-hot encode the input\n",
    "z = log(y) # transform the target\n",
    "\n",
    "ridge = RidgeRegressor(lambda=0.1)\n",
    "knn = KNNRegressor()\n",
    "\n",
    "ridgeM = machine(ridge, W, z)\n",
    "knnM = machine(knn, W, z)"
   ]
  },
  {
   "cell_type": "markdown",
   "metadata": {},
   "source": [
    "Average the predictions of the KNN and ridge models:"
   ]
  },
  {
   "cell_type": "code",
   "execution_count": 49,
   "metadata": {},
   "outputs": [
    {
     "data": {
      "text/plain": [
       "\u001b[34mNode @ 1…41\u001b[39m = +(#32(predict(\u001b[0m\u001b[1m1…62\u001b[22m, transform(\u001b[0m\u001b[1m1…88\u001b[22m, \u001b[34m1…64\u001b[39m))), #32(predict(\u001b[0m\u001b[1m1…39\u001b[22m, transform(\u001b[0m\u001b[1m1…88\u001b[22m, \u001b[34m1…64\u001b[39m))))"
      ]
     },
     "execution_count": 49,
     "metadata": {},
     "output_type": "execute_result"
    }
   ],
   "source": [
    "zhat = 0.5*predict(ridgeM, W) + 0.5*predict(knnM, W)"
   ]
  },
  {
   "cell_type": "markdown",
   "metadata": {},
   "source": [
    "Inverse the target transformation:"
   ]
  },
  {
   "cell_type": "code",
   "execution_count": 50,
   "metadata": {},
   "outputs": [
    {
     "data": {
      "text/plain": [
       "\u001b[34mNode @ 6…79\u001b[39m = #30(+(#32(predict(\u001b[0m\u001b[1m1…62\u001b[22m, transform(\u001b[0m\u001b[1m1…88\u001b[22m, \u001b[34m1…64\u001b[39m))), #32(predict(\u001b[0m\u001b[1m1…39\u001b[22m, transform(\u001b[0m\u001b[1m1…88\u001b[22m, \u001b[34m1…64\u001b[39m)))))"
      ]
     },
     "execution_count": 50,
     "metadata": {},
     "output_type": "execute_result"
    }
   ],
   "source": [
    "yhat = exp(zhat)"
   ]
  },
  {
   "cell_type": "markdown",
   "metadata": {},
   "source": [
    "A tree \"splat\" of the learning network terminating at `yhat`:"
   ]
  },
  {
   "cell_type": "code",
   "execution_count": 51,
   "metadata": {},
   "outputs": [
    {
     "data": {
      "text/plain": [
       "(operation = getfield(MLJ, Symbol(\"##30#31\"))(),\n",
       " model = nothing,\n",
       " arg1 = (operation = +,\n",
       "         model = nothing,\n",
       "         arg1 = (operation = getfield(MLJ, Symbol(\"##32#33\")){Float64}(0.5),\n",
       "                 model = nothing,\n",
       "                 arg1 = (operation = StatsBase.predict,\n",
       "                         model = \u001b[34mRidgeRegressor @ 2…18\u001b[39m,\n",
       "                         arg1 = (operation = MLJBase.transform,\n",
       "                                 model = \u001b[34mOneHotEncoder @ 1…21\u001b[39m,\n",
       "                                 arg1 = (source = \u001b[34mSource @ 1…64\u001b[39m,),\n",
       "                                 train_arg1 = (source = \u001b[34mSource @ 1…64\u001b[39m,),),\n",
       "                         train_arg1 = (operation = MLJBase.transform,\n",
       "                                       model = \u001b[34mOneHotEncoder @ 1…21\u001b[39m,\n",
       "                                       arg1 = (source = \u001b[34mSource @ 1…64\u001b[39m,),\n",
       "                                       train_arg1 = (source = \u001b[34mSource @ 1…64\u001b[39m,),),\n",
       "                         train_arg2 = (operation = getfield(MLJ, Symbol(\"##28#29\"))(),\n",
       "                                       model = nothing,\n",
       "                                       arg1 = (source = \u001b[34mSource @ 1…66\u001b[39m,),),),),\n",
       "         arg2 = (operation = getfield(MLJ, Symbol(\"##32#33\")){Float64}(0.5),\n",
       "                 model = nothing,\n",
       "                 arg1 = (operation = StatsBase.predict,\n",
       "                         model = \u001b[34mKNNRegressor @ 3…87\u001b[39m,\n",
       "                         arg1 = (operation = MLJBase.transform,\n",
       "                                 model = \u001b[34mOneHotEncoder @ 1…21\u001b[39m,\n",
       "                                 arg1 = (source = \u001b[34mSource @ 1…64\u001b[39m,),\n",
       "                                 train_arg1 = (source = \u001b[34mSource @ 1…64\u001b[39m,),),\n",
       "                         train_arg1 = (operation = MLJBase.transform,\n",
       "                                       model = \u001b[34mOneHotEncoder @ 1…21\u001b[39m,\n",
       "                                       arg1 = (source = \u001b[34mSource @ 1…64\u001b[39m,),\n",
       "                                       train_arg1 = (source = \u001b[34mSource @ 1…64\u001b[39m,),),\n",
       "                         train_arg2 = (operation = getfield(MLJ, Symbol(\"##28#29\"))(),\n",
       "                                       model = nothing,\n",
       "                                       arg1 = (source = \u001b[34mSource @ 1…66\u001b[39m,),),),),),)"
      ]
     },
     "execution_count": 51,
     "metadata": {},
     "output_type": "execute_result"
    }
   ],
   "source": [
    "MLJ.tree(yhat)"
   ]
  },
  {
   "cell_type": "code",
   "execution_count": 52,
   "metadata": {},
   "outputs": [
    {
     "name": "stderr",
     "output_type": "stream",
     "text": [
      "┌ Info: Evaluating using cross-validation. \n",
      "│ nfolds=6. \n",
      "│ shuffle=false \n",
      "│ measure=MLJ.rms \n",
      "│ operation=StatsBase.predict \n",
      "│ Resampling from all rows. \n",
      "└ @ MLJ /Users/anthony/.julia/packages/MLJ/JVPRT/src/resampling.jl:137\n",
      "\u001b[33mCross-validating: 100%[=========================] Time: 0:00:03\u001b[39m\n"
     ]
    },
    {
     "data": {
      "text/plain": [
       "6-element Array{Float64,1}:\n",
       " 23331.522525574146\n",
       " 27096.40890033297 \n",
       " 30577.323636229623\n",
       " 29272.855935539304\n",
       " 37834.271884729416\n",
       " 33413.20459176103 "
      ]
     },
     "execution_count": 52,
     "metadata": {},
     "output_type": "execute_result"
    }
   ],
   "source": [
    "blend = @from_network Blen(ridge=ridge, knn=knn) <= (X, y, yhat)\n",
    "blend.ridge.lambda = 0.2\n",
    "mach = machine(blend, load_reduced_ames())\n",
    "evaluate!(mach, measure=rms)"
   ]
  },
  {
   "cell_type": "markdown",
   "metadata": {},
   "source": [
    "*This notebook was generated using [Literate.jl](https://github.com/fredrikekre/Literate.jl).*"
   ]
  }
 ],
 "metadata": {
  "kernelspec": {
   "display_name": "Julia 1.1.0",
   "language": "julia",
   "name": "julia-1.1"
  },
  "language_info": {
   "file_extension": ".jl",
   "mimetype": "application/julia",
   "name": "julia",
   "version": "1.1.1"
  }
 },
 "nbformat": 4,
 "nbformat_minor": 3
}
